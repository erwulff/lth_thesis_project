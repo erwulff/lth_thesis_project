{
 "cells": [
  {
   "cell_type": "markdown",
   "metadata": {},
   "source": [
    "# Plotting the dijet invariant mass\n",
    "## Using PyROOT"
   ]
  },
  {
   "cell_type": "code",
   "execution_count": 1,
   "metadata": {},
   "outputs": [
    {
     "name": "stdout",
     "output_type": "stream",
     "text": [
      "Welcome to JupyROOT 6.18/04\n"
     ]
    }
   ],
   "source": [
    "import ROOT\n",
    "import numpy as np\n",
    "# Formatting purposes\n",
    "ROOT.gROOT.SetBatch(1)  # makes it faster- doesn't send lots of canvases over x11 connection\n",
    "\n",
    "\n",
    "path_to_data = '../../data/'\n",
    "\n",
    "folder15 = 'breynold/user.breynold.data15_13TeV.00284484.physics_Main.DAOD_NTUP_JTRIG_JETM1.r9264_p3083_p3601_j042_tree.root/'\n",
    "file15 = 'user.breynold.18753218._000001.tree.root'\n",
    "folder16 = 'breynold/user.breynold.data16_13TeV.00307656.physics_Main.DAOD_NTUP_JTRIG_JETM1.r9264_p3083_p3601_j042_tree.root/'\n",
    "file16 = 'user.breynold.18797259._000001.tree.root'\n",
    "\n",
    "caterina_ntuple = 'doglioni/data18_13TeV.00355331.calibration_DataScouting_05_Jets.merge.AOD.r10657_p3592.root'\n",
    "\n",
    "# Load a ROOT file\n",
    "path1 = path_to_data + folder16 + file16\n",
    "\n",
    "path_caterina_ntuple = path_to_data + caterina_ntuple\n",
    "rootfile1 = ROOT.TFile(path1)\n",
    "ttree1 = rootfile1.Get('outTree/nominal')"
   ]
  },
  {
   "cell_type": "code",
   "execution_count": 2,
   "metadata": {
    "scrolled": false
   },
   "outputs": [
    {
     "data": {
      "text/plain": [
       "<ROOT.TTree object (\"nominal\") at 0x7fcb4f54fd30>"
      ]
     },
     "execution_count": 2,
     "metadata": {},
     "output_type": "execute_result"
    }
   ],
   "source": [
    "ttree1"
   ]
  },
  {
   "cell_type": "code",
   "execution_count": 3,
   "metadata": {},
   "outputs": [],
   "source": [
    "c1 = ROOT.TCanvas(\"c1\", \"ROOT Canvas\")\n",
    "h1 = ROOT.TH1D(\"h1\", \"Invariant mass\", 100, 0, 3000)"
   ]
  },
  {
   "cell_type": "code",
   "execution_count": 4,
   "metadata": {},
   "outputs": [
    {
     "name": "stdout",
     "output_type": "stream",
     "text": [
      "Entry  0  done...\n",
      "Entry  100000  done...\n",
      "Entry  200000  done...\n",
      "Entry  300000  done...\n",
      "Entry  400000  done...\n",
      "Entry  500000  done...\n",
      "Entry  600000  done...\n",
      "Entry  700000  done...\n",
      "Entry  800000  done...\n",
      "Entry  900000  done...\n",
      "Entry  1000000  done...\n",
      "Entry  1100000  done...\n",
      "Entry  1200000  done...\n",
      "Entry  1300000  done...\n",
      "Entry  1400000  done...\n",
      "Entry  1500000  done...\n",
      "Entry  1600000  done...\n",
      "Entry  1700000  done...\n",
      "Entry  1800000  done...\n",
      "Entry  1900000  done...\n"
     ]
    }
   ],
   "source": [
    "n_events = ttree1.GetEntries()\n",
    "for ii in np.arange(ttree1.GetEntriesFast()):\n",
    "    ttree1.GetEntry(ii)\n",
    "    if ii % 100000 == 0:\n",
    "        print('Entry ', ii, ' done...')\n",
    "    \n",
    "    if len(ttree1.AntiKt4EMPFlowJets_Calib2018_E) > 1:  # Only consider events with 2 or more jets\n",
    "        e1 = ttree1.AntiKt4EMPFlowJets_Calib2018_E[0]\n",
    "        pt1 = ttree1.AntiKt4EMPFlowJets_Calib2018_pt[0]\n",
    "        eta1 = ttree1.AntiKt4EMPFlowJets_Calib2018_eta[0]\n",
    "        phi1 = ttree1.AntiKt4EMPFlowJets_Calib2018_phi[0]\n",
    "\n",
    "        e2 = ttree1.AntiKt4EMPFlowJets_Calib2018_E[1]\n",
    "        pt2 = ttree1.AntiKt4EMPFlowJets_Calib2018_pt[1]\n",
    "        eta2 = ttree1.AntiKt4EMPFlowJets_Calib2018_eta[1]\n",
    "        phi2 = ttree1.AntiKt4EMPFlowJets_Calib2018_phi[1]\n",
    "\n",
    "\n",
    "        v1 = ROOT.TLorentzVector()\n",
    "        v1.SetPtEtaPhiE(pt1, eta1, phi1, e1)\n",
    "        v2 = ROOT.TLorentzVector()\n",
    "        v2.SetPtEtaPhiE(pt2, eta2, phi2, e2)\n",
    "        vjj = v1 + v2\n",
    "\n",
    "        mjj = vjj.M()\n",
    "\n",
    "        h1.Fill(mjj)"
   ]
  },
  {
   "cell_type": "code",
   "execution_count": 5,
   "metadata": {
    "scrolled": false
   },
   "outputs": [
    {
     "data": {
      "image/png": "[encoded data removed]",
      "text/plain": [
       "<IPython.core.display.Image object>"
      ]
     },
     "metadata": {},
     "output_type": "display_data"
    }
   ],
   "source": [
    "h1.GetXaxis().SetTitle('mjj')\n",
    "h1.GetYaxis().SetTitle('Number of events')\n",
    "c1.SetGrid()\n",
    "h1.Draw()\n",
    "c1.Draw()"
   ]
  },
  {
   "cell_type": "markdown",
   "metadata": {},
   "source": [
    "## Using uproot"
   ]
  },
  {
   "cell_type": "code",
   "execution_count": 1,
   "metadata": {},
   "outputs": [
    {
     "name": "stdout",
     "output_type": "stream",
     "text": [
      "Welcome to JupyROOT 6.18/04\n"
     ]
    }
   ],
   "source": [
    "%matplotlib inline\n",
    "\n",
    "import matplotlib.pyplot as plt\n",
    "import numpy as np\n",
    "import pandas as pd\n",
    "import uproot\n",
    "import ROOT"
   ]
  },
  {
   "cell_type": "code",
   "execution_count": 5,
   "metadata": {},
   "outputs": [],
   "source": [
    "folder15 = 'user.breynold.data15_13TeV.00284484.physics_Main.DAOD_NTUP_JTRIG_JETM1.r9264_p3083_p3601_j042_tree.root/'\n",
    "file15 = 'user.breynold.18753218._000001.tree.root'\n",
    "folder16 = 'user.breynold.data16_13TeV.00307656.physics_Main.DAOD_NTUP_JTRIG_JETM1.r9264_p3083_p3601_j042_tree.root/'\n",
    "file16 = 'user.breynold.18797259._000001.tree.root'"
   ]
  },
  {
   "cell_type": "code",
   "execution_count": 6,
   "metadata": {},
   "outputs": [],
   "source": [
    "# Load a ROOT file\n",
    "filePath = folder16 + file16\n",
    "#rootFile = uproot.open(path_caterina_ntuple)\n",
    "rootFile = uproot.open(path1)"
   ]
  },
  {
   "cell_type": "code",
   "execution_count": 7,
   "metadata": {},
   "outputs": [],
   "source": [
    "tree = rootFile['outTree']['nominal']"
   ]
  },
  {
   "cell_type": "code",
   "execution_count": 8,
   "metadata": {},
   "outputs": [
    {
     "data": {
      "text/plain": [
       "[b'runNumber',\n",
       " b'eventNumber',\n",
       " b'lumiBlock',\n",
       " b'coreFlags',\n",
       " b'bcid',\n",
       " b'NPV',\n",
       " b'actualInteractionsPerCrossing',\n",
       " b'averageInteractionsPerCrossing',\n",
       " b'weight_pileup',\n",
       " b'correctedAverageMu',\n",
       " b'correctedAndScaledAverageMu',\n",
       " b'correctedActualMu',\n",
       " b'correctedAndScaledActualMu',\n",
       " b'passL1',\n",
       " b'passHLT',\n",
       " b'passedTriggers',\n",
       " b'disabledTriggers',\n",
       " b'triggerPrescales',\n",
       " b'isPassBits',\n",
       " b'isPassBitsNames',\n",
       " b'nAntiKt4EMTopoJets_Calib2016',\n",
       " b'AntiKt4EMTopoJets_Calib2016_E',\n",
       " b'AntiKt4EMTopoJets_Calib2016_pt',\n",
       " b'AntiKt4EMTopoJets_Calib2016_phi',\n",
       " b'AntiKt4EMTopoJets_Calib2016_eta',\n",
       " b'AntiKt4EMTopoJets_Calib2016_clean_passLooseBad',\n",
       " b'AntiKt4EMTopoJets_Calib2016_clean_passTightBad',\n",
       " b'AntiKt4EMTopoJets_Calib2016_JvtPass_Medium',\n",
       " b'nAntiKt4EMTopoJets_Calib2018',\n",
       " b'AntiKt4EMTopoJets_Calib2018_E',\n",
       " b'AntiKt4EMTopoJets_Calib2018_pt',\n",
       " b'AntiKt4EMTopoJets_Calib2018_phi',\n",
       " b'AntiKt4EMTopoJets_Calib2018_eta',\n",
       " b'AntiKt4EMTopoJets_Calib2018_clean_passLooseBad',\n",
       " b'AntiKt4EMTopoJets_Calib2018_clean_passTightBad',\n",
       " b'AntiKt4EMTopoJets_Calib2018_JvtPass_Medium',\n",
       " b'nAntiKt4EMPFlowJets_Calib2018',\n",
       " b'AntiKt4EMPFlowJets_Calib2018_E',\n",
       " b'AntiKt4EMPFlowJets_Calib2018_pt',\n",
       " b'AntiKt4EMPFlowJets_Calib2018_phi',\n",
       " b'AntiKt4EMPFlowJets_Calib2018_eta',\n",
       " b'AntiKt4EMPFlowJets_Calib2018_clean_passLooseBad',\n",
       " b'AntiKt4EMPFlowJets_Calib2018_clean_passTightBad',\n",
       " b'AntiKt4EMPFlowJets_Calib2018_JvtPass_Medium',\n",
       " b'nL1Jets',\n",
       " b'L1Jet_et8x8',\n",
       " b'L1Jet_eta',\n",
       " b'L1Jet_phi',\n",
       " b'nHLT_a4tcemsubjesFS_Jets',\n",
       " b'HLT_a4tcemsubjesFS_Jets_E',\n",
       " b'HLT_a4tcemsubjesFS_Jets_pt',\n",
       " b'HLT_a4tcemsubjesFS_Jets_phi',\n",
       " b'HLT_a4tcemsubjesFS_Jets_eta',\n",
       " b'nAntiKt10LCTopoTrimmedPtFrac5SmallR20Jets_Calib2018',\n",
       " b'AntiKt10LCTopoTrimmedPtFrac5SmallR20Jets_Calib2018_E',\n",
       " b'AntiKt10LCTopoTrimmedPtFrac5SmallR20Jets_Calib2018_pt',\n",
       " b'AntiKt10LCTopoTrimmedPtFrac5SmallR20Jets_Calib2018_phi',\n",
       " b'AntiKt10LCTopoTrimmedPtFrac5SmallR20Jets_Calib2018_eta']"
      ]
     },
     "execution_count": 8,
     "metadata": {},
     "output_type": "execute_result"
    }
   ],
   "source": [
    "tree.keys()"
   ]
  },
  {
   "cell_type": "code",
   "execution_count": 26,
   "metadata": {},
   "outputs": [],
   "source": [
    "# Loading the entire tree into a DataFrame takes way to much memory, > 15 GB\n",
    "\n",
    "# Create and fill a dataframe\n",
    "#df = pd.DataFrame()\n",
    "#for key in tree.keys():\n",
    "#    df[key] = tree.array(key)\n",
    "#df.head()"
   ]
  },
  {
   "cell_type": "code",
   "execution_count": 12,
   "metadata": {},
   "outputs": [],
   "source": [
    "canv = ROOT.TCanvas(\"canv\", \"tempCanvas\")"
   ]
  },
  {
   "cell_type": "code",
   "execution_count": 10,
   "metadata": {},
   "outputs": [],
   "source": [
    "branchnames_energy = ['HLT_a4tcemsubjesFS_Jets_E',\n",
    "                      'AntiKt4EMTopoJets_Calib2018_E',\n",
    "                      'AntiKt4EMPFlowJets_Calib2018_E',\n",
    "                      'AntiKt10LCTopoTrimmedPtFrac5SmallR20Jets_Calib2018_E']\n",
    "\n",
    "branchnames_pT = ['HLT_a4tcemsubjesFS_Jets_pt',\n",
    "                  'AntiKt4EMTopoJets_Calib2018_pt',\n",
    "                  'AntiKt4EMPFlowJets_Calib2018_pt',\n",
    "                  'AntiKt10LCTopoTrimmedPtFrac5SmallR20Jets_Calib2018_pt']\n",
    "\n",
    "\n",
    "branchnames_eta = ['HLT_a4tcemsubjesFS_Jets_eta',\n",
    "                   'AntiKt4EMTopoJets_Calib2018_eta',\n",
    "                   'AntiKt4EMPFlowJets_Calib2018_eta',\n",
    "                   'AntiKt10LCTopoTrimmedPtFrac5SmallR20Jets_Calib2018_eta']\n",
    "\n",
    "branchnames_phi = ['HLT_a4tcemsubjesFS_Jets_phi',\n",
    "                   'AntiKt4EMTopoJets_Calib2018_phi',\n",
    "                   'AntiKt4EMPFlowJets_Calib2018_phi',\n",
    "                   'AntiKt10LCTopoTrimmedPtFrac5SmallR20Jets_Calib2018_phi']"
   ]
  },
  {
   "cell_type": "code",
   "execution_count": 11,
   "metadata": {},
   "outputs": [],
   "source": [
    "ii = 2\n",
    "E = tree.array(branchnames_energy[ii])\n",
    "pT = tree.array(branchnames_pT[ii])\n",
    "eta = tree.array(branchnames_eta[ii])\n",
    "phi = tree.array(branchnames_phi[ii])"
   ]
  },
  {
   "cell_type": "code",
   "execution_count": 13,
   "metadata": {},
   "outputs": [],
   "source": [
    "E = tree.array('DSTrigJet_E')\n",
    "pT = tree.array('DSTrigJet_pt')\n",
    "eta = tree.array('DSTrigJet_eta')\n",
    "phi = tree.array('DSTrigJet_phi')"
   ]
  },
  {
   "cell_type": "code",
   "execution_count": 17,
   "metadata": {},
   "outputs": [
    {
     "data": {
      "text/plain": [
       "1940650"
      ]
     },
     "execution_count": 17,
     "metadata": {},
     "output_type": "execute_result"
    }
   ],
   "source": [
    "len(E)"
   ]
  },
  {
   "cell_type": "code",
   "execution_count": 31,
   "metadata": {},
   "outputs": [
    {
     "data": {
      "text/plain": [
       "(2467767,)"
      ]
     },
     "execution_count": 31,
     "metadata": {},
     "output_type": "execute_result"
    }
   ],
   "source": [
    "pT.shape"
   ]
  },
  {
   "cell_type": "code",
   "execution_count": 13,
   "metadata": {},
   "outputs": [],
   "source": [
    "hist = ROOT.TH1D(\"hist\", \"Invariant mass\", 100, 0, 3000)\n",
    "hist_from_vec = ROOT.TH1D(\"hist_from_vec\", \"Invariant mass\", 100, 0, 3000)\n",
    "hist_from_eptetaphi = ROOT.TH1D(\"hist_from_eptetaphi\", \"Invariant mass\", 100, 0, 3000)"
   ]
  },
  {
   "cell_type": "code",
   "execution_count": 14,
   "metadata": {},
   "outputs": [],
   "source": [
    "for ii, en in enumerate(E):\n",
    "    if len(en) > 1:\n",
    "        E1 = en[0]\n",
    "        E2 = en[1]\n",
    "        pT1 = pT[ii][0]\n",
    "        pT2 = pT[ii][1]\n",
    "        eta1 = eta[ii][0]\n",
    "        eta2 = eta[ii][1]\n",
    "        phi1 = phi[ii][0]\n",
    "        phi2 = phi[ii][1]\n",
    "        \n",
    "        vec4_1 = ROOT.TLorentzVector()\n",
    "        vec4_1.SetPtEtaPhiE(pT1, eta1, phi1, E1)\n",
    "        vec4_2 = ROOT.TLorentzVector()\n",
    "        vec4_2.SetPtEtaPhiE(pT2, eta2, phi2, E2)\n",
    "        vec4_jj = vec4_1 + vec4_2\n",
    "        \n",
    "        mjj = vec4_jj.M()\n",
    "\n",
    "        hist.Fill(mjj)"
   ]
  },
  {
   "cell_type": "code",
   "execution_count": 15,
   "metadata": {},
   "outputs": [
    {
     "data": {
      "image/png": "[encoded data removed]",
      "text/plain": [
       "<IPython.core.display.Image object>"
      ]
     },
     "metadata": {},
     "output_type": "display_data"
    }
   ],
   "source": [
    "hist.GetXaxis().SetTitle('mjj')\n",
    "hist.GetYaxis().SetTitle('Number of events')\n",
    "canv.SetGrid()\n",
    "hist.Draw()\n",
    "canv.Draw()"
   ]
  },
  {
   "cell_type": "code",
   "execution_count": null,
   "metadata": {},
   "outputs": [],
   "source": []
  }
 ],
 "metadata": {
  "kernelspec": {
   "display_name": "Python3.7 (fastairoot)",
   "language": "python",
   "name": "fastairoot"
  },
  "language_info": {
   "codemirror_mode": {
    "name": "ipython",
    "version": 3
   },
   "file_extension": ".py",
   "mimetype": "text/x-python",
   "name": "python",
   "nbconvert_exporter": "python",
   "pygments_lexer": "ipython3",
   "version": "3.7.3"
  }
 },
 "nbformat": 4,
 "nbformat_minor": 2
}
