{
 "cells": [
  {
   "cell_type": "markdown",
   "metadata": {},
   "source": [
    "# My first Autoencoder for Jet compression"
   ]
  },
  {
   "cell_type": "code",
   "execution_count": 1,
   "metadata": {},
   "outputs": [],
   "source": [
    "%matplotlib inline\n",
    "\n",
    "import matplotlib.pyplot as plt\n",
    "import numpy as np\n",
    "import pandas as pd\n",
    "import uproot\n",
    "import awkward"
   ]
  },
  {
   "cell_type": "code",
   "execution_count": 2,
   "metadata": {},
   "outputs": [],
   "source": [
    "from sklearn.model_selection import train_test_split\n",
    "\n",
    "import torch\n",
    "import torch.nn as nn\n",
    "import torch.optim as optim\n",
    "from torch.utils.data import TensorDataset\n",
    "from torch.utils.data import DataLoader"
   ]
  },
  {
   "cell_type": "markdown",
   "metadata": {},
   "source": [
    "## Getting the data\n",
    "I will only use $p_T, \\eta, \\phi \\text{ and } E$."
   ]
  },
  {
   "cell_type": "code",
   "execution_count": 3,
   "metadata": {},
   "outputs": [],
   "source": [
    "path_to_data = '../../data/'\n",
    "\n",
    "folder15 = 'breynold/user.breynold.data15_13TeV.00284484.physics_Main.DAOD_NTUP_JTRIG_JETM1.r9264_p3083_p3601_j042_tree.root/'\n",
    "file15 = 'user.breynold.18753218._000001.tree.root'\n",
    "folder16 = 'breynold/user.breynold.data16_13TeV.00307656.physics_Main.DAOD_NTUP_JTRIG_JETM1.r9264_p3083_p3601_j042_tree.root/'\n",
    "file16 = 'user.breynold.18797259._000001.tree.root'\n",
    "\n",
    "# Load a ROOT file\n",
    "filePath = path_to_data + folder16 + file16\n",
    "ttree = uproot.open(filePath)['outTree']['nominal']"
   ]
  },
  {
   "cell_type": "code",
   "execution_count": 4,
   "metadata": {},
   "outputs": [],
   "source": [
    "branchnames = ['nAntiKt4EMTopoJets_Calib2018',\n",
    "               'AntiKt4EMTopoJets_Calib2018_E',\n",
    "               'AntiKt4EMTopoJets_Calib2018_pt',\n",
    "               'AntiKt4EMTopoJets_Calib2018_phi',\n",
    "               'AntiKt4EMTopoJets_Calib2018_eta']\n",
    "\n",
    "jaggedE = ttree.array(branchnames[1])\n",
    "jaggedpT = ttree.array(branchnames[2])\n",
    "jaggedphi = ttree.array(branchnames[3])\n",
    "jaggedeta = ttree.array(branchnames[4])"
   ]
  },
  {
   "cell_type": "code",
   "execution_count": 5,
   "metadata": {},
   "outputs": [
    {
     "data": {
      "text/plain": [
       "array([20,  9,  9, ...,  5, 18, 11])"
      ]
     },
     "execution_count": 5,
     "metadata": {},
     "output_type": "execute_result"
    }
   ],
   "source": [
    "jaggedE.counts"
   ]
  },
  {
   "cell_type": "code",
   "execution_count": 6,
   "metadata": {},
   "outputs": [
    {
     "data": {
      "text/plain": [
       "array([212.2173  , 175.15614 ,  64.451935, ...,  24.369474,  13.941364,\n",
       "        60.927433], dtype=float32)"
      ]
     },
     "execution_count": 6,
     "metadata": {},
     "output_type": "execute_result"
    }
   ],
   "source": [
    "jaggedE.content"
   ]
  },
  {
   "cell_type": "code",
   "execution_count": 7,
   "metadata": {},
   "outputs": [],
   "source": [
    "def get_leading(jaggedX):\n",
    "    return jaggedX[jaggedX.counts > 1, 0]"
   ]
  },
  {
   "cell_type": "code",
   "execution_count": 8,
   "metadata": {},
   "outputs": [],
   "source": [
    "leading_E = get_leading(jaggedE)\n",
    "leading_pT = get_leading(jaggedpT)\n",
    "leading_phi = get_leading(jaggedphi)\n",
    "leading_eta = get_leading(jaggedeta)"
   ]
  },
  {
   "cell_type": "code",
   "execution_count": 9,
   "metadata": {},
   "outputs": [
    {
     "name": "stdout",
     "output_type": "stream",
     "text": [
      "(1937902,) (1937902,) (1937902,) (1937902,)\n"
     ]
    }
   ],
   "source": [
    "print(leading_E.shape, leading_eta.shape, leading_phi.shape, leading_pT.shape)"
   ]
  },
  {
   "cell_type": "code",
   "execution_count": 10,
   "metadata": {},
   "outputs": [],
   "source": [
    "df = pd.DataFrame(data = {'pT': leading_pT, 'eta': leading_eta, 'phi': leading_phi, 'E': leading_E})"
   ]
  },
  {
   "cell_type": "code",
   "execution_count": 11,
   "metadata": {},
   "outputs": [
    {
     "data": {
      "text/html": [
       "<div>\n",
       "<style scoped>\n",
       "    .dataframe tbody tr th:only-of-type {\n",
       "        vertical-align: middle;\n",
       "    }\n",
       "\n",
       "    .dataframe tbody tr th {\n",
       "        vertical-align: top;\n",
       "    }\n",
       "\n",
       "    .dataframe thead th {\n",
       "        text-align: right;\n",
       "    }\n",
       "</style>\n",
       "<table border=\"1\" class=\"dataframe\">\n",
       "  <thead>\n",
       "    <tr style=\"text-align: right;\">\n",
       "      <th></th>\n",
       "      <th>pT</th>\n",
       "      <th>eta</th>\n",
       "      <th>phi</th>\n",
       "      <th>E</th>\n",
       "    </tr>\n",
       "  </thead>\n",
       "  <tbody>\n",
       "    <tr>\n",
       "      <td>0</td>\n",
       "      <td>161.850494</td>\n",
       "      <td>-0.764774</td>\n",
       "      <td>2.287350</td>\n",
       "      <td>212.217300</td>\n",
       "    </tr>\n",
       "    <tr>\n",
       "      <td>1</td>\n",
       "      <td>164.702454</td>\n",
       "      <td>0.205651</td>\n",
       "      <td>-1.074816</td>\n",
       "      <td>169.021805</td>\n",
       "    </tr>\n",
       "    <tr>\n",
       "      <td>2</td>\n",
       "      <td>405.421387</td>\n",
       "      <td>-0.064094</td>\n",
       "      <td>-2.324020</td>\n",
       "      <td>407.661316</td>\n",
       "    </tr>\n",
       "    <tr>\n",
       "      <td>3</td>\n",
       "      <td>139.671234</td>\n",
       "      <td>-0.289339</td>\n",
       "      <td>-2.052494</td>\n",
       "      <td>145.860703</td>\n",
       "    </tr>\n",
       "    <tr>\n",
       "      <td>4</td>\n",
       "      <td>227.195618</td>\n",
       "      <td>2.158644</td>\n",
       "      <td>-1.864455</td>\n",
       "      <td>996.913025</td>\n",
       "    </tr>\n",
       "    <tr>\n",
       "      <td>5</td>\n",
       "      <td>180.480667</td>\n",
       "      <td>1.684722</td>\n",
       "      <td>-1.049987</td>\n",
       "      <td>503.476410</td>\n",
       "    </tr>\n",
       "    <tr>\n",
       "      <td>6</td>\n",
       "      <td>39.454185</td>\n",
       "      <td>-0.305395</td>\n",
       "      <td>0.755678</td>\n",
       "      <td>41.943340</td>\n",
       "    </tr>\n",
       "    <tr>\n",
       "      <td>7</td>\n",
       "      <td>202.920883</td>\n",
       "      <td>1.583752</td>\n",
       "      <td>-0.301926</td>\n",
       "      <td>515.302856</td>\n",
       "    </tr>\n",
       "    <tr>\n",
       "      <td>8</td>\n",
       "      <td>263.867432</td>\n",
       "      <td>-0.141594</td>\n",
       "      <td>-2.308791</td>\n",
       "      <td>267.712372</td>\n",
       "    </tr>\n",
       "    <tr>\n",
       "      <td>9</td>\n",
       "      <td>234.460327</td>\n",
       "      <td>-2.949176</td>\n",
       "      <td>2.114750</td>\n",
       "      <td>2244.307617</td>\n",
       "    </tr>\n",
       "  </tbody>\n",
       "</table>\n",
       "</div>"
      ],
      "text/plain": [
       "           pT       eta       phi            E\n",
       "0  161.850494 -0.764774  2.287350   212.217300\n",
       "1  164.702454  0.205651 -1.074816   169.021805\n",
       "2  405.421387 -0.064094 -2.324020   407.661316\n",
       "3  139.671234 -0.289339 -2.052494   145.860703\n",
       "4  227.195618  2.158644 -1.864455   996.913025\n",
       "5  180.480667  1.684722 -1.049987   503.476410\n",
       "6   39.454185 -0.305395  0.755678    41.943340\n",
       "7  202.920883  1.583752 -0.301926   515.302856\n",
       "8  263.867432 -0.141594 -2.308791   267.712372\n",
       "9  234.460327 -2.949176  2.114750  2244.307617"
      ]
     },
     "execution_count": 11,
     "metadata": {},
     "output_type": "execute_result"
    }
   ],
   "source": [
    "df.head(10)"
   ]
  },
  {
   "cell_type": "markdown",
   "metadata": {},
   "source": [
    "## Splitting into training and test sets"
   ]
  },
  {
   "cell_type": "code",
   "execution_count": 12,
   "metadata": {},
   "outputs": [],
   "source": [
    "n_features = len(df.loc[0])\n",
    "\n",
    "train, test = train_test_split(df, test_size=0.2, random_state=42)"
   ]
  },
  {
   "cell_type": "code",
   "execution_count": 13,
   "metadata": {},
   "outputs": [
    {
     "name": "stdout",
     "output_type": "stream",
     "text": [
      "(1550321, 4) (387581, 4)\n"
     ]
    }
   ],
   "source": [
    "print(train.shape, test.shape)"
   ]
  },
  {
   "cell_type": "code",
   "execution_count": 14,
   "metadata": {},
   "outputs": [],
   "source": [
    "# Normalize the features\n",
    "train_mean = train.mean()\n",
    "train_std = train.std()\n",
    "\n",
    "train = (train - train_mean) / train_std\n",
    "test = (test - train_mean) / train_std  # Is this the right way to normalize? (only using train mean and std to normalize both train and test)\n",
    "\n",
    "train_x = train\n",
    "test_x = test\n",
    "train_y = train_x  # y = x since we are building and AE\n",
    "test_y = test_x\n",
    "\n",
    "train_ds = TensorDataset(torch.tensor(train_x.values), torch.tensor(train_y.values))\n",
    "valid_ds = TensorDataset(torch.tensor(test_x.values), torch.tensor(test_y.values))"
   ]
  },
  {
   "cell_type": "markdown",
   "metadata": {},
   "source": [
    "## Building models\n",
    "\n",
    "I'm building three models of different sizes. The smallest one does not do any compression but acts as a control model. If that one isn't preforming well the larger models probably don't stand a chance either."
   ]
  },
  {
   "cell_type": "markdown",
   "metadata": {},
   "source": [
    "### Small model"
   ]
  },
  {
   "cell_type": "code",
   "execution_count": 31,
   "metadata": {},
   "outputs": [],
   "source": [
    "model = nn.Sequential(\n",
    "    nn.Linear(n_features, 4),\n",
    "    nn.Tanh(),\n",
    "    nn.Linear(4, n_features),\n",
    ")"
   ]
  },
  {
   "cell_type": "markdown",
   "metadata": {},
   "source": [
    "### Medium model"
   ]
  },
  {
   "cell_type": "code",
   "execution_count": 30,
   "metadata": {},
   "outputs": [],
   "source": [
    "model_medium = nn.Sequential(\n",
    "    nn.Linear(n_features, 4),\n",
    "    nn.Tanh(),\n",
    "    nn.Linear(4, 3),\n",
    "    nn.Tanh(),\n",
    "    nn.Linear(3, 4),\n",
    "    nn.Tanh(),\n",
    "    nn.Linear(4, n_features),\n",
    ")"
   ]
  },
  {
   "cell_type": "markdown",
   "metadata": {},
   "source": [
    "### Large model"
   ]
  },
  {
   "cell_type": "code",
   "execution_count": 15,
   "metadata": {},
   "outputs": [],
   "source": [
    "model_big = nn.Sequential(\n",
    "    nn.Linear(n_features, 8),\n",
    "    nn.Tanh(),\n",
    "    nn.Linear(8, 6),\n",
    "    nn.Tanh(),\n",
    "    nn.Linear(6, 4),\n",
    "    nn.Tanh(),\n",
    "    nn.Linear(4, 3),\n",
    "    nn.Tanh(),\n",
    "    nn.Linear(3, 4),\n",
    "    nn.Tanh(),\n",
    "    nn.Linear(4, 6),\n",
    "    nn.Tanh(),\n",
    "    nn.Linear(6, 8),\n",
    "    nn.Tanh(),\n",
    "    nn.Linear(8, n_features),\n",
    ")"
   ]
  },
  {
   "cell_type": "code",
   "execution_count": 32,
   "metadata": {},
   "outputs": [],
   "source": [
    "# Some helper functions\n",
    "def get_data(train_ds, valid_ds, bs):\n",
    "    return (\n",
    "        DataLoader(train_ds, batch_size=bs, shuffle=True),\n",
    "        DataLoader(valid_ds, batch_size=bs * 2),\n",
    "    )\n",
    "\n",
    "\n",
    "def loss_batch(model, loss_func, xb, yb, opt=None):\n",
    "    loss = loss_func(model(xb), yb)\n",
    "\n",
    "    if opt is not None:\n",
    "        loss.backward()\n",
    "        opt.step()\n",
    "        opt.zero_grad()\n",
    "\n",
    "    return loss.item(), len(xb)\n",
    "\n",
    "\n",
    "def fit(epochs, model, loss_func, opt, train_dl, valid_dl):\n",
    "    for epoch in range(epochs):\n",
    "        model.train()\n",
    "        for xb, yb in train_dl:\n",
    "            loss_batch(model, loss_func, xb, yb, opt)\n",
    "\n",
    "        model.eval()\n",
    "        with torch.no_grad():\n",
    "            losses, nums = zip(\n",
    "                *[loss_batch(model, loss_func, xb, yb) for xb, yb in valid_dl]\n",
    "            )\n",
    "        val_loss = np.sum(np.multiply(losses, nums)) / np.sum(nums)  # MSE-Loss\n",
    "        if(epoch % 1 == 0):\n",
    "            print('epoch: ' + str(epoch) + ',', 'validation loss: ' + str(val_loss))"
   ]
  },
  {
   "cell_type": "code",
   "execution_count": 33,
   "metadata": {},
   "outputs": [],
   "source": [
    "bs = 64  # batch size\n",
    "train_dl, valid_dl = get_data(train_ds, valid_ds, bs)"
   ]
  },
  {
   "cell_type": "markdown",
   "metadata": {},
   "source": [
    "## Training"
   ]
  },
  {
   "cell_type": "code",
   "execution_count": 40,
   "metadata": {},
   "outputs": [
    {
     "name": "stdout",
     "output_type": "stream",
     "text": [
      "epoch: 0, validation loss: 0.0009844307802118835\n",
      "epoch: 1, validation loss: 0.00035632431255999355\n",
      "epoch: 2, validation loss: 0.0002777528047366488\n",
      "epoch: 3, validation loss: 0.00023502431268229926\n",
      "epoch: 4, validation loss: 0.00016193122171908675\n",
      "epoch: 5, validation loss: 0.00013418651330728506\n",
      "epoch: 6, validation loss: 0.00014093060209831513\n"
     ]
    }
   ],
   "source": [
    "epochs = 7\n",
    "loss_func = nn.MSELoss()\n",
    "opt = optim.Adam(model.parameters(), lr=1e-3)\n",
    "fit(epochs, model, loss_func, opt, train_dl, valid_dl)"
   ]
  },
  {
   "cell_type": "code",
   "execution_count": 41,
   "metadata": {},
   "outputs": [
    {
     "name": "stdout",
     "output_type": "stream",
     "text": [
      "epoch: 0, validation loss: 9.535449994789525e-05\n",
      "epoch: 1, validation loss: 0.00010508833575059822\n",
      "epoch: 2, validation loss: 8.913892355854045e-05\n"
     ]
    }
   ],
   "source": [
    "epochs = 3\n",
    "opt = optim.Adam(model.parameters(), lr=3e-4)\n",
    "fit(epochs, model, loss_func, opt, train_dl, valid_dl)"
   ]
  },
  {
   "cell_type": "code",
   "execution_count": 52,
   "metadata": {},
   "outputs": [
    {
     "name": "stdout",
     "output_type": "stream",
     "text": [
      "epoch: 0, validation loss: 8.290619633248439e-05\n",
      "epoch: 1, validation loss: 7.434683948677615e-05\n"
     ]
    }
   ],
   "source": [
    "epochs = 2\n",
    "opt = optim.Adam(model.parameters(), lr=1e-5)\n",
    "fit(epochs, model, loss_func, opt, train_dl, valid_dl)"
   ]
  },
  {
   "cell_type": "markdown",
   "metadata": {},
   "source": [
    "### Look at reconstructed input vs input"
   ]
  },
  {
   "cell_type": "code",
   "execution_count": 47,
   "metadata": {},
   "outputs": [
    {
     "name": "stdout",
     "output_type": "stream",
     "text": [
      "Inp: tensor([ 1.6863, -0.7095,  1.6946,  0.2721])\n",
      "Out: tensor([ 1.6947, -0.6949,  1.6949,  0.2685], grad_fn=<AddBackward0>)\n",
      " \n",
      "Inp: tensor([ 0.1766, -0.1649, -0.0310, -0.5931])\n",
      "Out: tensor([ 0.1764, -0.1663, -0.0322, -0.6019], grad_fn=<AddBackward0>)\n",
      " \n",
      "Inp: tensor([-0.3746,  0.6508,  1.3037, -0.5510])\n",
      "Out: tensor([-0.3694,  0.6493,  1.3031, -0.5489], grad_fn=<AddBackward0>)\n",
      " \n",
      "Inp: tensor([-0.3711, -0.0072,  1.0894, -0.7293])\n",
      "Out: tensor([-0.3686, -0.0116,  1.0882, -0.7304], grad_fn=<AddBackward0>)\n",
      " \n",
      "Inp: tensor([-0.7818, -0.3965,  1.1572, -0.7662])\n",
      "Out: tensor([-0.7826, -0.4028,  1.1527, -0.7632], grad_fn=<AddBackward0>)\n",
      " \n",
      "Inp: tensor([0.4060, 1.5628, 1.4620, 1.8385])\n",
      "Out: tensor([0.4039, 1.5715, 1.4670, 1.8401], grad_fn=<AddBackward0>)\n",
      " \n",
      "Inp: tensor([-0.0816, -0.7146, -1.2172, -0.3813])\n",
      "Out: tensor([-0.0820, -0.7157, -1.2190, -0.3817], grad_fn=<AddBackward0>)\n",
      " \n",
      "Inp: tensor([ 0.4208,  0.0398, -1.2887, -0.5597])\n",
      "Out: tensor([ 0.4260,  0.0373, -1.2920, -0.5622], grad_fn=<AddBackward0>)\n",
      " \n",
      "Inp: tensor([ 0.0139,  1.3978, -1.7089,  0.7964])\n",
      "Out: tensor([ 0.0169,  1.4060, -1.7148,  0.8061], grad_fn=<AddBackward0>)\n",
      " \n",
      "Inp: tensor([ 1.8584,  0.4536, -0.0703, -0.0505])\n",
      "Out: tensor([ 1.8743,  0.4512, -0.0675, -0.0463], grad_fn=<AddBackward0>)\n",
      " \n"
     ]
    }
   ],
   "source": [
    "model.eval()\n",
    "for ii in np.arange(100, 110):\n",
    "    data = valid_ds.tensors[0][ii]\n",
    "    pred = model(data)\n",
    "    print('Inp:', data)\n",
    "    print('Out:', pred)\n",
    "    print(' ')"
   ]
  },
  {
   "cell_type": "code",
   "execution_count": 48,
   "metadata": {},
   "outputs": [],
   "source": [
    "idxs = (4000, 4010)  # Choose events to compare\n",
    "#Get some data for comparison\n",
    "data = valid_ds.tensors[0][idxs[0]:idxs[1]]\n",
    "pred = model(data).detach().numpy()"
   ]
  },
  {
   "cell_type": "code",
   "execution_count": 49,
   "metadata": {},
   "outputs": [
    {
     "data": {
      "image/png": "[encoded data removed]",
      "text/plain": [
       "<Figure size 288x216 with 1 Axes>"
      ]
     },
     "metadata": {
      "needs_background": "light"
     },
     "output_type": "display_data"
    },
    {
     "data": {
      "image/png": "[encoded data removed]",
      "text/plain": [
       "<Figure size 288x216 with 1 Axes>"
      ]
     },
     "metadata": {
      "needs_background": "light"
     },
     "output_type": "display_data"
    },
    {
     "data": {
      "image/png": "[encoded data removed]",
      "text/plain": [
       "<Figure size 288x216 with 1 Axes>"
      ]
     },
     "metadata": {
      "needs_background": "light"
     },
     "output_type": "display_data"
    },
    {
     "data": {
      "image/png": "[encoded data removed]",
      "text/plain": [
       "<Figure size 288x216 with 1 Axes>"
      ]
     },
     "metadata": {
      "needs_background": "light"
     },
     "output_type": "display_data"
    }
   ],
   "source": [
    "# Plot input on top of output\n",
    "linewd = 3\n",
    "line_style = ['-', '--']\n",
    "colors = ['c', 'orange']\n",
    "fontsz = 16\n",
    "figsz = (4, 3)\n",
    "for kk in np.arange(4):\n",
    "    plt.figure(kk, figsize=figsz)\n",
    "    plt.plot(pred[:, kk], color=colors[0], label='Output', linestyle=line_style[0], linewidth=linewd)\n",
    "    plt.plot(data[:, kk], color=colors[1], label='Input', linestyle=line_style[1], linewidth=linewd)\n",
    "    plt.title(df.columns[kk], fontsize=fontsz)\n",
    "    plt.xlabel('Event', fontsize=fontsz)\n",
    "    plt.ylabel(df.columns[kk], fontsize=fontsz)"
   ]
  },
  {
   "cell_type": "markdown",
   "metadata": {},
   "source": [
    "## Train medium model"
   ]
  },
  {
   "cell_type": "code",
   "execution_count": 34,
   "metadata": {},
   "outputs": [
    {
     "name": "stdout",
     "output_type": "stream",
     "text": [
      "epoch: 0, validation loss: 0.0071031145864480375\n",
      "epoch: 1, validation loss: 0.003993334070137736\n",
      "epoch: 2, validation loss: 0.0033867725383697053\n",
      "epoch: 3, validation loss: 0.0027295692297380748\n",
      "epoch: 4, validation loss: 0.0024779109284955147\n",
      "epoch: 5, validation loss: 0.0023105130185880865\n",
      "epoch: 6, validation loss: 0.002153293904756846\n"
     ]
    }
   ],
   "source": [
    "epochs = 7\n",
    "loss_func = nn.MSELoss()\n",
    "opt = optim.Adam(model_medium.parameters(), lr=1e-3)\n",
    "fit(epochs, model_medium, loss_func, opt, train_dl, valid_dl)"
   ]
  },
  {
   "cell_type": "code",
   "execution_count": 53,
   "metadata": {},
   "outputs": [
    {
     "name": "stdout",
     "output_type": "stream",
     "text": [
      "epoch: 0, validation loss: 0.0016941647404318198\n"
     ]
    }
   ],
   "source": [
    "epochs = 4\n",
    "loss_func = nn.MSELoss()\n",
    "opt = optim.Adam(model_medium.parameters(), lr=3e-4)\n",
    "fit(epochs, model_medium, loss_func, opt, train_dl, valid_dl)"
   ]
  },
  {
   "cell_type": "code",
   "execution_count": 55,
   "metadata": {},
   "outputs": [
    {
     "name": "stdout",
     "output_type": "stream",
     "text": [
      "epoch: 0, validation loss: 0.0016555217954483301\n"
     ]
    }
   ],
   "source": [
    "epochs = 3\n",
    "loss_func = nn.MSELoss()\n",
    "opt = optim.Adam(model_medium.parameters(), lr=1e-4)\n",
    "fit(epochs, model_medium, loss_func, opt, train_dl, valid_dl)"
   ]
  },
  {
   "cell_type": "code",
   "execution_count": 56,
   "metadata": {},
   "outputs": [
    {
     "name": "stdout",
     "output_type": "stream",
     "text": [
      "Inp: tensor([ 1.6863, -0.7095,  1.6946,  0.2721])\n",
      "Out: tensor([ 1.7135, -0.7071,  1.6687,  0.2947], grad_fn=<AddBackward0>)\n",
      " \n",
      "Inp: tensor([ 0.1766, -0.1649, -0.0310, -0.5931])\n",
      "Out: tensor([ 0.1755, -0.1707, -0.0298, -0.6018], grad_fn=<AddBackward0>)\n",
      " \n",
      "Inp: tensor([-0.3746,  0.6508,  1.3037, -0.5510])\n",
      "Out: tensor([-0.3683,  0.6787,  1.3055, -0.5602], grad_fn=<AddBackward0>)\n",
      " \n",
      "Inp: tensor([-0.3711, -0.0072,  1.0894, -0.7293])\n",
      "Out: tensor([-0.3568, -0.0094,  1.0927, -0.7506], grad_fn=<AddBackward0>)\n",
      " \n",
      "Inp: tensor([-0.7818, -0.3965,  1.1572, -0.7662])\n",
      "Out: tensor([-0.7631, -0.4226,  1.1515, -0.7792], grad_fn=<AddBackward0>)\n",
      " \n"
     ]
    }
   ],
   "source": [
    "model_medium.eval()\n",
    "# Print a few tensors\n",
    "for ii in np.arange(100, 105):\n",
    "    data = valid_ds.tensors[0][ii]\n",
    "    pred = model_medium(data)\n",
    "    print('Inp:', data)\n",
    "    print('Out:', pred)\n",
    "    print(' ')"
   ]
  },
  {
   "cell_type": "code",
   "execution_count": 57,
   "metadata": {},
   "outputs": [],
   "source": [
    "#Get some data for comparison\n",
    "data = valid_ds.tensors[0][idxs[0]:idxs[1]]\n",
    "pred_medium = model_medium(data).detach().numpy()"
   ]
  },
  {
   "cell_type": "code",
   "execution_count": 58,
   "metadata": {},
   "outputs": [
    {
     "data": {
      "image/png": "[encoded data removed]",
      "text/plain": [
       "<Figure size 288x216 with 1 Axes>"
      ]
     },
     "metadata": {
      "needs_background": "light"
     },
     "output_type": "display_data"
    },
    {
     "data": {
      "image/png": "[encoded data removed]",
      "text/plain": [
       "<Figure size 288x216 with 1 Axes>"
      ]
     },
     "metadata": {
      "needs_background": "light"
     },
     "output_type": "display_data"
    },
    {
     "data": {
      "image/png": "[encoded data removed]",
      "text/plain": [
       "<Figure size 288x216 with 1 Axes>"
      ]
     },
     "metadata": {
      "needs_background": "light"
     },
     "output_type": "display_data"
    },
    {
     "data": {
      "image/png": "[encoded data removed]",
      "text/plain": [
       "<Figure size 288x216 with 1 Axes>"
      ]
     },
     "metadata": {
      "needs_background": "light"
     },
     "output_type": "display_data"
    }
   ],
   "source": [
    "# Plot input on top of output\n",
    "linewd = 3\n",
    "line_style = ['-', '--']\n",
    "colors = ['c', 'orange']\n",
    "fontsz = 16\n",
    "figsz = (4, 3)\n",
    "for kk in np.arange(4):\n",
    "    plt.figure(kk, figsize=figsz)\n",
    "    plt.plot(pred_medium[:, kk], color=colors[0], label='Output', linestyle=line_style[0], linewidth=linewd)\n",
    "    plt.plot(data[:, kk], color=colors[1], label='Input', linestyle=line_style[1], linewidth=linewd)\n",
    "    plt.title(df.columns[kk], fontsize=fontsz)\n",
    "    plt.xlabel('Event', fontsize=fontsz)\n",
    "    plt.ylabel(df.columns[kk], fontsize=fontsz)"
   ]
  },
  {
   "cell_type": "markdown",
   "metadata": {},
   "source": [
    "## Train big model"
   ]
  },
  {
   "cell_type": "code",
   "execution_count": 24,
   "metadata": {
    "scrolled": true
   },
   "outputs": [
    {
     "name": "stdout",
     "output_type": "stream",
     "text": [
      "epoch: 0, validation loss: 0.0017792597405557557\n",
      "epoch: 1, validation loss: 0.000810179051559203\n",
      "epoch: 2, validation loss: 0.0005137063176305504\n",
      "epoch: 3, validation loss: 0.0004947753889614501\n",
      "epoch: 4, validation loss: 0.0005493387988039543\n",
      "epoch: 5, validation loss: 0.0002923736576316176\n",
      "epoch: 6, validation loss: 0.0009838177678324384\n"
     ]
    }
   ],
   "source": [
    "epochs = 5\n",
    "loss_func = nn.MSELoss()\n",
    "opt = optim.Adam(model_big.parameters(), lr=1e-3)\n",
    "fit(epochs, model_big, loss_func, opt, train_dl, valid_dl)"
   ]
  },
  {
   "cell_type": "code",
   "execution_count": 25,
   "metadata": {},
   "outputs": [
    {
     "name": "stdout",
     "output_type": "stream",
     "text": [
      "epoch: 0, validation loss: 0.00015559877844366005\n",
      "epoch: 1, validation loss: 0.00014563928884266534\n",
      "epoch: 2, validation loss: 0.00018043840776302278\n",
      "epoch: 3, validation loss: 0.00013213020094798473\n",
      "epoch: 4, validation loss: 0.00013957830705647303\n"
     ]
    }
   ],
   "source": [
    "epochs = 3\n",
    "opt = optim.Adam(model_big.parameters(), lr=3e-4)\n",
    "fit(epochs, model_big, loss_func, opt, train_dl, valid_dl)"
   ]
  },
  {
   "cell_type": "code",
   "execution_count": 59,
   "metadata": {},
   "outputs": [
    {
     "name": "stdout",
     "output_type": "stream",
     "text": [
      "epoch: 0, validation loss: 0.00011801705487568865\n",
      "epoch: 1, validation loss: 0.00010968197991833399\n",
      "epoch: 2, validation loss: 0.0001064412479691467\n"
     ]
    }
   ],
   "source": [
    "epochs = 3\n",
    "opt = optim.Adam(model_big.parameters(), lr=1e-4)\n",
    "fit(epochs, model_big, loss_func, opt, train_dl, valid_dl)"
   ]
  },
  {
   "cell_type": "code",
   "execution_count": 70,
   "metadata": {},
   "outputs": [
    {
     "name": "stdout",
     "output_type": "stream",
     "text": [
      "epoch: 0, validation loss: 0.00010100461992341448\n",
      "epoch: 1, validation loss: 9.994042056550185e-05\n",
      "epoch: 2, validation loss: 0.00010165762972498648\n"
     ]
    }
   ],
   "source": [
    "epochs = 2\n",
    "opt = optim.Adam(model_big.parameters(), lr=3e-5)\n",
    "fit(epochs, model_big, loss_func, opt, train_dl, valid_dl)"
   ]
  },
  {
   "cell_type": "code",
   "execution_count": 71,
   "metadata": {},
   "outputs": [
    {
     "name": "stdout",
     "output_type": "stream",
     "text": [
      "epoch: 0, validation loss: 9.768235615447091e-05\n",
      "epoch: 1, validation loss: 9.790363399057029e-05\n"
     ]
    }
   ],
   "source": [
    "epochs = 2\n",
    "opt = optim.Adam(model_big.parameters(), lr=1e-5)\n",
    "fit(epochs, model_big, loss_func, opt, train_dl, valid_dl)"
   ]
  },
  {
   "cell_type": "code",
   "execution_count": 72,
   "metadata": {},
   "outputs": [],
   "source": [
    "# saving the model for later inference (if training is to be continued another saving method is recommended)\n",
    "#save_path = './models/model_big.pt'  # Last save had valid loss = 9.8e-5\n",
    "#torch.save(model_big.state_dict(), save_path)\n",
    "# model_big = nn.Sequential()\n",
    "# model_big.load_state_dict(torch.load(save_path))\n",
    "# model.eval()"
   ]
  },
  {
   "cell_type": "code",
   "execution_count": 73,
   "metadata": {},
   "outputs": [
    {
     "name": "stdout",
     "output_type": "stream",
     "text": [
      "Inp: tensor([ 1.6863, -0.7095,  1.6946,  0.2721])\n",
      "Out: tensor([ 1.6929, -0.7071,  1.6811,  0.2879], grad_fn=<AddBackward0>)\n",
      " \n",
      "Inp: tensor([ 0.1766, -0.1649, -0.0310, -0.5931])\n",
      "Out: tensor([ 0.1771, -0.1679, -0.0348, -0.5987], grad_fn=<AddBackward0>)\n",
      " \n",
      "Inp: tensor([-0.3746,  0.6508,  1.3037, -0.5510])\n",
      "Out: tensor([-0.3788,  0.6442,  1.3004, -0.5356], grad_fn=<AddBackward0>)\n",
      " \n",
      "Inp: tensor([-0.3711, -0.0072,  1.0894, -0.7293])\n",
      "Out: tensor([-0.3723, -0.0121,  1.0918, -0.7290], grad_fn=<AddBackward0>)\n",
      " \n",
      "Inp: tensor([-0.7818, -0.3965,  1.1572, -0.7662])\n",
      "Out: tensor([-0.7824, -0.3992,  1.1664, -0.7665], grad_fn=<AddBackward0>)\n",
      " \n"
     ]
    }
   ],
   "source": [
    "model_big.eval()\n",
    "# Print a few tensors\n",
    "for ii in np.arange(100, 105):\n",
    "    data = valid_ds.tensors[0][ii]\n",
    "    pred = model_big(data)\n",
    "    print('Inp:', data)\n",
    "    print('Out:', pred)\n",
    "    print(' ')"
   ]
  },
  {
   "cell_type": "code",
   "execution_count": 74,
   "metadata": {},
   "outputs": [],
   "source": [
    "#Get some data for comparison\n",
    "data = valid_ds.tensors[0][idxs[0]:idxs[1]]\n",
    "pred_big = model_big(data).detach().numpy()"
   ]
  },
  {
   "cell_type": "code",
   "execution_count": 75,
   "metadata": {},
   "outputs": [
    {
     "data": {
      "image/png": "[encoded data removed]",
      "text/plain": [
       "<Figure size 288x216 with 1 Axes>"
      ]
     },
     "metadata": {
      "needs_background": "light"
     },
     "output_type": "display_data"
    },
    {
     "data": {
      "image/png": "[encoded data removed]",
      "text/plain": [
       "<Figure size 288x216 with 1 Axes>"
      ]
     },
     "metadata": {
      "needs_background": "light"
     },
     "output_type": "display_data"
    },
    {
     "data": {
      "image/png": "[encoded data removed]",
      "text/plain": [
       "<Figure size 288x216 with 1 Axes>"
      ]
     },
     "metadata": {
      "needs_background": "light"
     },
     "output_type": "display_data"
    },
    {
     "data": {
      "image/png": "[encoded data removed]",
      "text/plain": [
       "<Figure size 288x216 with 1 Axes>"
      ]
     },
     "metadata": {
      "needs_background": "light"
     },
     "output_type": "display_data"
    }
   ],
   "source": [
    "# Plot input on top of output\n",
    "linewd = 3\n",
    "line_style = ['-', '--']\n",
    "colors = ['c', 'orange']\n",
    "fontsz = 16\n",
    "figsz = (4, 3)\n",
    "for kk in np.arange(4):\n",
    "    plt.figure(kk, figsize=figsz)\n",
    "    plt.plot(pred_big[:, kk], color=colors[0], label='Output', linestyle=line_style[0], linewidth=linewd)\n",
    "    plt.plot(data[:, kk], color=colors[1], label='Input', linestyle=line_style[1], linewidth=linewd)\n",
    "    plt.title(df.columns[kk], fontsize=fontsz)\n",
    "    plt.xlabel('Event', fontsize=fontsz)\n",
    "    plt.ylabel(df.columns[kk], fontsize=fontsz)"
   ]
  },
  {
   "cell_type": "code",
   "execution_count": null,
   "metadata": {},
   "outputs": [],
   "source": []
  }
 ],
 "metadata": {
  "kernelspec": {
   "display_name": "Python3.7 (fastairoot)",
   "language": "python",
   "name": "fastairoot"
  },
  "language_info": {
   "codemirror_mode": {
    "name": "ipython",
    "version": 3
   },
   "file_extension": ".py",
   "mimetype": "text/x-python",
   "name": "python",
   "nbconvert_exporter": "python",
   "pygments_lexer": "ipython3",
   "version": "3.7.3"
  }
 },
 "nbformat": 4,
 "nbformat_minor": 2
}
