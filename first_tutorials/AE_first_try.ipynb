{
 "cells": [
  {
   "cell_type": "markdown",
   "metadata": {},
   "source": [
    "# My first Autoencoder for Jet compression"
   ]
  },
  {
   "cell_type": "code",
   "execution_count": 1,
   "metadata": {},
   "outputs": [],
   "source": [
    "%matplotlib inline\n",
    "\n",
    "import matplotlib.pyplot as plt\n",
    "import numpy as np\n",
    "import pandas as pd\n",
    "import uproot"
   ]
  },
  {
   "cell_type": "code",
   "execution_count": 2,
   "metadata": {},
   "outputs": [],
   "source": [
    "from sklearn.model_selection import train_test_split\n",
    "\n",
    "import torch\n",
    "import torch.nn as nn\n",
    "import torch.optim as optim\n",
    "from torch.utils.data import TensorDataset\n",
    "from torch.utils.data import DataLoader"
   ]
  },
  {
   "cell_type": "code",
   "execution_count": 3,
   "metadata": {},
   "outputs": [
    {
     "name": "stdout",
     "output_type": "stream",
     "text": [
      "Using device: cpu\n"
     ]
    }
   ],
   "source": [
    "force_cpu = False\n",
    "\n",
    "if force_cpu:\n",
    "    device = torch.device('cpu')\n",
    "else:\n",
    "    if torch.cuda.is_available():\n",
    "        device = torch.device('cuda')\n",
    "    else:\n",
    "        device = torch.device('cpu')\n",
    "print('Using device:', device)"
   ]
  },
  {
   "cell_type": "markdown",
   "metadata": {},
   "source": [
    "## Getting the data\n",
    "I will only use $p_T, \\eta, \\phi \\text{ and } E$."
   ]
  },
  {
   "cell_type": "code",
   "execution_count": 4,
   "metadata": {},
   "outputs": [],
   "source": [
    "path_to_data = '../../data/'\n",
    "\n",
    "folder15 = 'breynold/user.breynold.data15_13TeV.00284484.physics_Main.DAOD_NTUP_JTRIG_JETM1.r9264_p3083_p3601_j042_tree.root/'\n",
    "file15 = 'user.breynold.18753218._000001.tree.root'\n",
    "folder16 = 'breynold/user.breynold.data16_13TeV.00307656.physics_Main.DAOD_NTUP_JTRIG_JETM1.r9264_p3083_p3601_j042_tree.root/'\n",
    "file16 = 'user.breynold.18797259._000001.tree.root'\n",
    "\n",
    "# Load a ROOT file\n",
    "filePath = path_to_data + folder16 + file16\n",
    "ttree = uproot.open(filePath)['outTree']['nominal']"
   ]
  },
  {
   "cell_type": "code",
   "execution_count": 5,
   "metadata": {},
   "outputs": [],
   "source": [
    "branchnames = ['nAntiKt4EMTopoJets_Calib2018',\n",
    "               'AntiKt4EMTopoJets_Calib2018_E',\n",
    "               'AntiKt4EMTopoJets_Calib2018_pt',\n",
    "               'AntiKt4EMTopoJets_Calib2018_phi',\n",
    "               'AntiKt4EMTopoJets_Calib2018_eta']\n",
    "\n",
    "jaggedE = ttree.array(branchnames[1])\n",
    "jaggedpT = ttree.array(branchnames[2])\n",
    "jaggedphi = ttree.array(branchnames[3])\n",
    "jaggedeta = ttree.array(branchnames[4])"
   ]
  },
  {
   "cell_type": "code",
   "execution_count": 6,
   "metadata": {},
   "outputs": [],
   "source": [
    "def get_leading(jaggedX):\n",
    "    return jaggedX[jaggedX.counts > 1, 0]"
   ]
  },
  {
   "cell_type": "code",
   "execution_count": 7,
   "metadata": {},
   "outputs": [],
   "source": [
    "leading_E = get_leading(jaggedE)\n",
    "leading_pT = get_leading(jaggedpT)\n",
    "leading_phi = get_leading(jaggedphi)\n",
    "leading_eta = get_leading(jaggedeta)"
   ]
  },
  {
   "cell_type": "code",
   "execution_count": 8,
   "metadata": {},
   "outputs": [
    {
     "name": "stdout",
     "output_type": "stream",
     "text": [
      "(1937902,) (1937902,) (1937902,) (1937902,)\n"
     ]
    }
   ],
   "source": [
    "print(leading_E.shape, leading_eta.shape, leading_phi.shape, leading_pT.shape)"
   ]
  },
  {
   "cell_type": "code",
   "execution_count": 9,
   "metadata": {},
   "outputs": [],
   "source": [
    "df = pd.DataFrame(data = {'pT': leading_pT, 'eta': leading_eta, 'phi': leading_phi, 'E': leading_E})"
   ]
  },
  {
   "cell_type": "markdown",
   "metadata": {},
   "source": [
    "## Splitting into training and test sets"
   ]
  },
  {
   "cell_type": "code",
   "execution_count": 10,
   "metadata": {},
   "outputs": [],
   "source": [
    "train, test = train_test_split(df, test_size=0.2, random_state=42)"
   ]
  },
  {
   "cell_type": "code",
   "execution_count": 11,
   "metadata": {},
   "outputs": [],
   "source": [
    "# Save train and test sets\n",
    "# train.to_pickle('processed_data/train.pkl')\n",
    "# test.to_pickle('processed_data/test.pkl')\n",
    "# train = pd.read_pickle('processed_data/train.pkl')\n",
    "# test = pd.read_pickle('processed_data/test.pkl')\n",
    "\n",
    "n_features = len(train.loc[0])"
   ]
  },
  {
   "cell_type": "code",
   "execution_count": 12,
   "metadata": {},
   "outputs": [
    {
     "name": "stdout",
     "output_type": "stream",
     "text": [
      "(1550321, 4) (387581, 4)\n"
     ]
    }
   ],
   "source": [
    "print(train.shape, test.shape)"
   ]
  },
  {
   "cell_type": "code",
   "execution_count": 13,
   "metadata": {},
   "outputs": [],
   "source": [
    "# Normalize the features\n",
    "train_mean = train.mean()\n",
    "train_std = train.std()\n",
    "\n",
    "train = (train - train_mean) / train_std\n",
    "test = (test - train_mean) / train_std  # Is this the right way to normalize? (only using train mean and std to normalize both train and test)\n",
    "\n",
    "train_x = train\n",
    "test_x = test\n",
    "train_y = train_x  # y = x since we are building and AE\n",
    "test_y = test_x\n",
    "\n",
    "train_ds = TensorDataset(torch.tensor(train_x.values), torch.tensor(train_y.values))\n",
    "valid_ds = TensorDataset(torch.tensor(test_x.values), torch.tensor(test_y.values))"
   ]
  },
  {
   "cell_type": "markdown",
   "metadata": {},
   "source": [
    "## Building models\n",
    "\n",
    "I'm building three models of different sizes. The smallest one does not do any compression but acts as a control model. If that one isn't preforming well the larger models probably don't stand a chance either."
   ]
  },
  {
   "cell_type": "markdown",
   "metadata": {},
   "source": [
    "### Small model"
   ]
  },
  {
   "cell_type": "code",
   "execution_count": 14,
   "metadata": {},
   "outputs": [],
   "source": [
    "model = nn.Sequential(\n",
    "    nn.Linear(n_features, 4),\n",
    "    nn.Tanh(),\n",
    "    nn.Linear(4, n_features),\n",
    ")"
   ]
  },
  {
   "cell_type": "markdown",
   "metadata": {},
   "source": [
    "### Medium model"
   ]
  },
  {
   "cell_type": "code",
   "execution_count": 40,
   "metadata": {},
   "outputs": [],
   "source": [
    "model_medium = nn.Sequential(\n",
    "    nn.Linear(n_features, 4),\n",
    "    nn.Tanh(),\n",
    "    nn.Linear(4, 3),\n",
    "    nn.Tanh(),\n",
    "    nn.Linear(3, 4),\n",
    "    nn.Tanh(),\n",
    "    nn.Linear(4, n_features),\n",
    ")"
   ]
  },
  {
   "cell_type": "markdown",
   "metadata": {},
   "source": [
    "### Large model"
   ]
  },
  {
   "cell_type": "code",
   "execution_count": 16,
   "metadata": {},
   "outputs": [],
   "source": [
    "model_big = nn.Sequential(\n",
    "    nn.Linear(n_features, 8),\n",
    "    nn.Tanh(),\n",
    "    nn.Linear(8, 6),\n",
    "    nn.Tanh(),\n",
    "    nn.Linear(6, 4),\n",
    "    nn.Tanh(),\n",
    "    nn.Linear(4, 3),\n",
    "    nn.Tanh(),\n",
    "    nn.Linear(3, 4),\n",
    "    nn.Tanh(),\n",
    "    nn.Linear(4, 6),\n",
    "    nn.Tanh(),\n",
    "    nn.Linear(6, 8),\n",
    "    nn.Tanh(),\n",
    "    nn.Linear(8, n_features),\n",
    ")"
   ]
  },
  {
   "cell_type": "code",
   "execution_count": 17,
   "metadata": {},
   "outputs": [],
   "source": [
    "# Some helper functions\n",
    "def get_data(train_ds, valid_ds, bs):\n",
    "    return (\n",
    "        DataLoader(train_ds, batch_size=bs, shuffle=True),\n",
    "        DataLoader(valid_ds, batch_size=bs * 2),\n",
    "    )\n",
    "\n",
    "\n",
    "def loss_batch(model, loss_func, xb, yb, opt=None):\n",
    "    loss = loss_func(model(xb), yb)\n",
    "\n",
    "    if opt is not None:\n",
    "        loss.backward()\n",
    "        opt.step()\n",
    "        opt.zero_grad()\n",
    "\n",
    "    return loss.item(), len(xb)\n",
    "\n",
    "\n",
    "def fit(epochs, model, loss_func, opt, train_dl, valid_dl):\n",
    "    for epoch in range(epochs):\n",
    "        model.train()\n",
    "        for xb, yb in train_dl:\n",
    "            loss_batch(model, loss_func, xb, yb, opt)\n",
    "\n",
    "        model.eval()\n",
    "        with torch.no_grad():\n",
    "            losses, nums = zip(\n",
    "                *[loss_batch(model, loss_func, xb, yb) for xb, yb in valid_dl]\n",
    "            )\n",
    "        val_loss = np.sum(np.multiply(losses, nums)) / np.sum(nums)  # MSE-Loss\n",
    "        if(epoch % 1 == 0):\n",
    "            print('epoch: ' + str(epoch) + ',', 'validation loss: ' + str(val_loss))"
   ]
  },
  {
   "cell_type": "code",
   "execution_count": 18,
   "metadata": {},
   "outputs": [],
   "source": [
    "bs = 64  # batch size\n",
    "train_dl, valid_dl = get_data(train_ds, valid_ds, bs)"
   ]
  },
  {
   "cell_type": "markdown",
   "metadata": {},
   "source": [
    "## Training"
   ]
  },
  {
   "cell_type": "code",
   "execution_count": 19,
   "metadata": {},
   "outputs": [
    {
     "name": "stdout",
     "output_type": "stream",
     "text": [
      "epoch: 0, validation loss: 0.000736557113063001\n",
      "epoch: 1, validation loss: 0.00033792929832384495\n",
      "epoch: 2, validation loss: 0.00030191991597372736\n",
      "epoch: 3, validation loss: 0.0001535313171534736\n",
      "epoch: 4, validation loss: 0.0001386966590495777\n",
      "epoch: 5, validation loss: 0.00010972093781220296\n",
      "epoch: 6, validation loss: 0.001541099412597634\n"
     ]
    }
   ],
   "source": [
    "epochs = 7\n",
    "loss_func = nn.MSELoss()\n",
    "opt = optim.Adam(model.parameters(), lr=1e-3)\n",
    "fit(epochs, model, loss_func, opt, train_dl, valid_dl)"
   ]
  },
  {
   "cell_type": "code",
   "execution_count": 20,
   "metadata": {},
   "outputs": [
    {
     "name": "stdout",
     "output_type": "stream",
     "text": [
      "epoch: 0, validation loss: 8.760630124097094e-05\n",
      "epoch: 1, validation loss: 8.441838015709016e-05\n",
      "epoch: 2, validation loss: 7.041108092644634e-05\n"
     ]
    }
   ],
   "source": [
    "epochs = 3\n",
    "opt = optim.Adam(model.parameters(), lr=3e-4)\n",
    "fit(epochs, model, loss_func, opt, train_dl, valid_dl)"
   ]
  },
  {
   "cell_type": "code",
   "execution_count": 21,
   "metadata": {},
   "outputs": [
    {
     "name": "stdout",
     "output_type": "stream",
     "text": [
      "epoch: 0, validation loss: 6.962559175108803e-05\n",
      "epoch: 1, validation loss: 6.961878245008718e-05\n"
     ]
    }
   ],
   "source": [
    "epochs = 2\n",
    "opt = optim.Adam(model.parameters(), lr=1e-5)\n",
    "fit(epochs, model, loss_func, opt, train_dl, valid_dl)"
   ]
  },
  {
   "cell_type": "markdown",
   "metadata": {},
   "source": [
    "### Look at reconstructed input vs input"
   ]
  },
  {
   "cell_type": "code",
   "execution_count": 22,
   "metadata": {},
   "outputs": [
    {
     "name": "stdout",
     "output_type": "stream",
     "text": [
      "Inp: tensor([ 1.6863, -0.7095,  1.6946,  0.2721])\n",
      "Out: tensor([ 1.6907, -0.6983,  1.7019,  0.2675], grad_fn=<AddBackward0>)\n",
      " \n",
      "Inp: tensor([ 0.1766, -0.1649, -0.0310, -0.5931])\n",
      "Out: tensor([ 0.1736, -0.1691, -0.0312, -0.6007], grad_fn=<AddBackward0>)\n",
      " \n",
      "Inp: tensor([-0.3746,  0.6508,  1.3037, -0.5510])\n",
      "Out: tensor([-0.3759,  0.6486,  1.3047, -0.5481], grad_fn=<AddBackward0>)\n",
      " \n",
      "Inp: tensor([-0.3711, -0.0072,  1.0894, -0.7293])\n",
      "Out: tensor([-0.3714, -0.0104,  1.0892, -0.7333], grad_fn=<AddBackward0>)\n",
      " \n",
      "Inp: tensor([-0.7818, -0.3965,  1.1572, -0.7662])\n",
      "Out: tensor([-0.7793, -0.3967,  1.1515, -0.7706], grad_fn=<AddBackward0>)\n",
      " \n",
      "Inp: tensor([0.4060, 1.5628, 1.4620, 1.8385])\n",
      "Out: tensor([0.4078, 1.5753, 1.4694, 1.8361], grad_fn=<AddBackward0>)\n",
      " \n",
      "Inp: tensor([-0.0816, -0.7146, -1.2172, -0.3813])\n",
      "Out: tensor([-0.0785, -0.7128, -1.2190, -0.3872], grad_fn=<AddBackward0>)\n",
      " \n",
      "Inp: tensor([ 0.4208,  0.0398, -1.2887, -0.5597])\n",
      "Out: tensor([ 0.4245,  0.0341, -1.2950, -0.5606], grad_fn=<AddBackward0>)\n",
      " \n",
      "Inp: tensor([ 0.0139,  1.3978, -1.7089,  0.7964])\n",
      "Out: tensor([ 0.0147,  1.4066, -1.7168,  0.7963], grad_fn=<AddBackward0>)\n",
      " \n",
      "Inp: tensor([ 1.8584,  0.4536, -0.0703, -0.0505])\n",
      "Out: tensor([ 1.8684,  0.4420, -0.0725, -0.0388], grad_fn=<AddBackward0>)\n",
      " \n"
     ]
    }
   ],
   "source": [
    "model.eval()\n",
    "for ii in np.arange(100, 110):\n",
    "    data = valid_ds.tensors[0][ii]\n",
    "    pred = model(data)\n",
    "    print('Inp:', data)\n",
    "    print('Out:', pred)\n",
    "    print(' ')"
   ]
  },
  {
   "cell_type": "code",
   "execution_count": 23,
   "metadata": {},
   "outputs": [],
   "source": [
    "idxs = (4000, 4010)  # Choose events to compare\n",
    "#Get some data for comparison\n",
    "data = valid_ds.tensors[0][idxs[0]:idxs[1]]\n",
    "pred = model(data).detach().numpy()"
   ]
  },
  {
   "cell_type": "code",
   "execution_count": 24,
   "metadata": {},
   "outputs": [
    {
     "data": {
      "image/png": "[encoded data removed]",
      "text/plain": [
       "<Figure size 288x216 with 1 Axes>"
      ]
     },
     "metadata": {
      "needs_background": "light"
     },
     "output_type": "display_data"
    },
    {
     "data": {
      "image/png": "[encoded data removed]",
      "text/plain": [
       "<Figure size 288x216 with 1 Axes>"
      ]
     },
     "metadata": {
      "needs_background": "light"
     },
     "output_type": "display_data"
    },
    {
     "data": {
      "image/png": "[encoded data removed]",
      "text/plain": [
       "<Figure size 288x216 with 1 Axes>"
      ]
     },
     "metadata": {
      "needs_background": "light"
     },
     "output_type": "display_data"
    },
    {
     "data": {
      "image/png": "[encoded data removed]",
      "text/plain": [
       "<Figure size 288x216 with 1 Axes>"
      ]
     },
     "metadata": {
      "needs_background": "light"
     },
     "output_type": "display_data"
    }
   ],
   "source": [
    "# Plot input on top of output\n",
    "linewd = 3\n",
    "line_style = ['-', '--']\n",
    "colors = ['c', 'orange']\n",
    "fontsz = 16\n",
    "figsz = (4, 3)\n",
    "for kk in np.arange(4):\n",
    "    plt.figure(kk, figsize=figsz)\n",
    "    plt.plot(pred[:, kk], color=colors[0], label='Output', linestyle=line_style[0], linewidth=linewd)\n",
    "    plt.plot(data[:, kk], color=colors[1], label='Input', linestyle=line_style[1], linewidth=linewd)\n",
    "    plt.title(df.columns[kk], fontsize=fontsz)\n",
    "    plt.xlabel('Event', fontsize=fontsz)\n",
    "    plt.ylabel(df.columns[kk], fontsize=fontsz)"
   ]
  },
  {
   "cell_type": "markdown",
   "metadata": {},
   "source": [
    "## Train medium model"
   ]
  },
  {
   "cell_type": "code",
   "execution_count": 42,
   "metadata": {},
   "outputs": [
    {
     "name": "stdout",
     "output_type": "stream",
     "text": [
      "Setting learning rate to 1.0e-03\n",
      "epoch: 0, validation loss: 0.006086880177678167\n",
      "epoch: 1, validation loss: 0.0039107180646617565\n",
      "epoch: 2, validation loss: 0.003350690021453632\n",
      "epoch: 3, validation loss: 0.0032729979791548056\n",
      "epoch: 4, validation loss: 0.002797499309866681\n",
      "epoch: 5, validation loss: 0.0026659385785072114\n",
      "epoch: 6, validation loss: 0.002465859215869848\n",
      "Setting learning rate to 3.0e-04\n",
      "epoch: 0, validation loss: 0.0023404878509778243\n",
      "epoch: 1, validation loss: 0.0022599794968717374\n",
      "epoch: 2, validation loss: 0.002125246077403564\n",
      "epoch: 3, validation loss: 0.0020363941449962697\n",
      "epoch: 4, validation loss: 0.002051722268667014\n",
      "Setting learning rate to 1.0e-04\n",
      "epoch: 0, validation loss: 0.0019300546055246697\n",
      "epoch: 1, validation loss: 0.0019675536142809117\n",
      "epoch: 2, validation loss: 0.0018746047096876103\n",
      "Setting learning rate to 3.0e-05\n",
      "epoch: 0, validation loss: 0.0018605685620107898\n",
      "epoch: 1, validation loss: 0.0018462709365027214\n",
      "Setting learning rate to 1.0e-05\n",
      "epoch: 0, validation loss: 0.0018415125071660106\n",
      "epoch: 1, validation loss: 0.001843360062361851\n"
     ]
    }
   ],
   "source": [
    "# Training\n",
    "#epochs_list = [7, 5, 3, 2, 2]\n",
    "#lrs = [1e-3, 3e-4, 1e-4, 3e-5, 1e-5]\n",
    "#for ii, epochs in enumerate(epochs_list):\n",
    "#    print('Setting learning rate to %.1e' % lrs[ii])\n",
    "#    opt = optim.Adam(model_medium.parameters(), lr=lrs[ii])\n",
    "#    fit(epochs, model_medium, loss_func, opt, train_dl, valid_dl)"
   ]
  },
  {
   "cell_type": "code",
   "execution_count": 25,
   "metadata": {},
   "outputs": [
    {
     "name": "stdout",
     "output_type": "stream",
     "text": [
      "epoch: 0, validation loss: 0.004773648594269232\n",
      "epoch: 1, validation loss: 0.0030309859306544363\n",
      "epoch: 2, validation loss: 0.002172103714699364\n",
      "epoch: 3, validation loss: 0.003066309637726141\n",
      "epoch: 4, validation loss: 0.0015322377849005264\n",
      "epoch: 5, validation loss: 0.0014684152945342716\n",
      "epoch: 6, validation loss: 0.0011886528151028156\n"
     ]
    }
   ],
   "source": [
    "epochs = 7\n",
    "loss_func = nn.MSELoss()\n",
    "opt = optim.Adam(model_medium.parameters(), lr=1e-3)\n",
    "fit(epochs, model_medium, loss_func, opt, train_dl, valid_dl)"
   ]
  },
  {
   "cell_type": "code",
   "execution_count": 26,
   "metadata": {},
   "outputs": [
    {
     "name": "stdout",
     "output_type": "stream",
     "text": [
      "epoch: 0, validation loss: 0.0011125588414966955\n",
      "epoch: 1, validation loss: 0.0010642724230004856\n",
      "epoch: 2, validation loss: 0.0010329516460837553\n",
      "epoch: 3, validation loss: 0.0010277904099933242\n"
     ]
    }
   ],
   "source": [
    "epochs = 4\n",
    "loss_func = nn.MSELoss()\n",
    "opt = optim.Adam(model_medium.parameters(), lr=3e-4)\n",
    "fit(epochs, model_medium, loss_func, opt, train_dl, valid_dl)"
   ]
  },
  {
   "cell_type": "code",
   "execution_count": 27,
   "metadata": {},
   "outputs": [
    {
     "name": "stdout",
     "output_type": "stream",
     "text": [
      "epoch: 0, validation loss: 0.0010148659788744667\n",
      "epoch: 1, validation loss: 0.000942294752626167\n",
      "epoch: 2, validation loss: 0.0009353808261164761\n"
     ]
    }
   ],
   "source": [
    "epochs = 3\n",
    "loss_func = nn.MSELoss()\n",
    "opt = optim.Adam(model_medium.parameters(), lr=1e-4)\n",
    "fit(epochs, model_medium, loss_func, opt, train_dl, valid_dl)"
   ]
  },
  {
   "cell_type": "code",
   "execution_count": 28,
   "metadata": {},
   "outputs": [
    {
     "name": "stdout",
     "output_type": "stream",
     "text": [
      "Inp: tensor([ 1.6863, -0.7095,  1.6946,  0.2721])\n",
      "Out: tensor([ 1.7136, -0.7015,  1.6770,  0.2502], grad_fn=<AddBackward0>)\n",
      " \n",
      "Inp: tensor([ 0.1766, -0.1649, -0.0310, -0.5931])\n",
      "Out: tensor([ 0.1693, -0.1639, -0.0199, -0.5847], grad_fn=<AddBackward0>)\n",
      " \n",
      "Inp: tensor([-0.3746,  0.6508,  1.3037, -0.5510])\n",
      "Out: tensor([-0.3679,  0.6483,  1.3108, -0.5514], grad_fn=<AddBackward0>)\n",
      " \n",
      "Inp: tensor([-0.3711, -0.0072,  1.0894, -0.7293])\n",
      "Out: tensor([-0.3697, -0.0088,  1.1099, -0.7179], grad_fn=<AddBackward0>)\n",
      " \n",
      "Inp: tensor([-0.7818, -0.3965,  1.1572, -0.7662])\n",
      "Out: tensor([-0.7749, -0.3935,  1.1703, -0.7481], grad_fn=<AddBackward0>)\n",
      " \n"
     ]
    }
   ],
   "source": [
    "model_medium.eval()\n",
    "# Print a few tensors\n",
    "for ii in np.arange(100, 105):\n",
    "    data = valid_ds.tensors[0][ii]\n",
    "    pred = model_medium(data)\n",
    "    print('Inp:', data)\n",
    "    print('Out:', pred)\n",
    "    print(' ')"
   ]
  },
  {
   "cell_type": "code",
   "execution_count": 29,
   "metadata": {},
   "outputs": [],
   "source": [
    "#Get some data for comparison\n",
    "data = valid_ds.tensors[0][idxs[0]:idxs[1]]\n",
    "pred_medium = model_medium(data).detach().numpy()"
   ]
  },
  {
   "cell_type": "code",
   "execution_count": 30,
   "metadata": {},
   "outputs": [
    {
     "data": {
      "image/png": "[encoded data removed]",
      "text/plain": [
       "<Figure size 288x216 with 1 Axes>"
      ]
     },
     "metadata": {
      "needs_background": "light"
     },
     "output_type": "display_data"
    },
    {
     "data": {
      "image/png": "[encoded data removed]",
      "text/plain": [
       "<Figure size 288x216 with 1 Axes>"
      ]
     },
     "metadata": {
      "needs_background": "light"
     },
     "output_type": "display_data"
    },
    {
     "data": {
      "image/png": "[encoded data removed]",
      "text/plain": [
       "<Figure size 288x216 with 1 Axes>"
      ]
     },
     "metadata": {
      "needs_background": "light"
     },
     "output_type": "display_data"
    },
    {
     "data": {
      "image/png": "[encoded data removed]",
      "text/plain": [
       "<Figure size 288x216 with 1 Axes>"
      ]
     },
     "metadata": {
      "needs_background": "light"
     },
     "output_type": "display_data"
    }
   ],
   "source": [
    "# Plot input on top of output\n",
    "linewd = 3\n",
    "line_style = ['-', '--']\n",
    "colors = ['c', 'orange']\n",
    "fontsz = 16\n",
    "figsz = (4, 3)\n",
    "for kk in np.arange(4):\n",
    "    plt.figure(kk, figsize=figsz)\n",
    "    plt.plot(pred_medium[:, kk], color=colors[0], label='Output', linestyle=line_style[0], linewidth=linewd)\n",
    "    plt.plot(data[:, kk], color=colors[1], label='Input', linestyle=line_style[1], linewidth=linewd)\n",
    "    plt.title(df.columns[kk], fontsize=fontsz)\n",
    "    plt.xlabel('Event', fontsize=fontsz)\n",
    "    plt.ylabel(df.columns[kk], fontsize=fontsz)"
   ]
  },
  {
   "cell_type": "markdown",
   "metadata": {},
   "source": [
    "## Train big model"
   ]
  },
  {
   "cell_type": "code",
   "execution_count": 31,
   "metadata": {
    "scrolled": true
   },
   "outputs": [
    {
     "name": "stdout",
     "output_type": "stream",
     "text": [
      "epoch: 0, validation loss: 0.0023079907329286724\n",
      "epoch: 1, validation loss: 0.0008924777925893498\n",
      "epoch: 2, validation loss: 0.0007440450185393244\n",
      "epoch: 3, validation loss: 0.00033590610247258794\n",
      "epoch: 4, validation loss: 0.0008517879722089027\n"
     ]
    }
   ],
   "source": [
    "epochs = 5\n",
    "loss_func = nn.MSELoss()\n",
    "opt = optim.Adam(model_big.parameters(), lr=1e-3)\n",
    "fit(epochs, model_big, loss_func, opt, train_dl, valid_dl)"
   ]
  },
  {
   "cell_type": "code",
   "execution_count": 32,
   "metadata": {},
   "outputs": [
    {
     "name": "stdout",
     "output_type": "stream",
     "text": [
      "epoch: 0, validation loss: 0.00020896033510371084\n",
      "epoch: 1, validation loss: 0.00018475928979071326\n",
      "epoch: 2, validation loss: 0.0001648752825392663\n"
     ]
    }
   ],
   "source": [
    "epochs = 3\n",
    "opt = optim.Adam(model_big.parameters(), lr=3e-4)\n",
    "fit(epochs, model_big, loss_func, opt, train_dl, valid_dl)"
   ]
  },
  {
   "cell_type": "code",
   "execution_count": 33,
   "metadata": {},
   "outputs": [
    {
     "name": "stdout",
     "output_type": "stream",
     "text": [
      "epoch: 0, validation loss: 0.0001541565741138469\n",
      "epoch: 1, validation loss: 0.00012935275649805802\n",
      "epoch: 2, validation loss: 0.00013058569378918944\n"
     ]
    }
   ],
   "source": [
    "epochs = 3\n",
    "opt = optim.Adam(model_big.parameters(), lr=1e-4)\n",
    "fit(epochs, model_big, loss_func, opt, train_dl, valid_dl)"
   ]
  },
  {
   "cell_type": "code",
   "execution_count": 34,
   "metadata": {},
   "outputs": [
    {
     "name": "stdout",
     "output_type": "stream",
     "text": [
      "epoch: 0, validation loss: 0.00011777593524407403\n",
      "epoch: 1, validation loss: 0.00011672351230738502\n"
     ]
    }
   ],
   "source": [
    "epochs = 2\n",
    "opt = optim.Adam(model_big.parameters(), lr=3e-5)\n",
    "fit(epochs, model_big, loss_func, opt, train_dl, valid_dl)"
   ]
  },
  {
   "cell_type": "code",
   "execution_count": 35,
   "metadata": {},
   "outputs": [
    {
     "name": "stdout",
     "output_type": "stream",
     "text": [
      "epoch: 0, validation loss: 0.0001148705360640724\n",
      "epoch: 1, validation loss: 0.00011454058629062384\n"
     ]
    }
   ],
   "source": [
    "epochs = 2\n",
    "opt = optim.Adam(model_big.parameters(), lr=1e-5)\n",
    "fit(epochs, model_big, loss_func, opt, train_dl, valid_dl)"
   ]
  },
  {
   "cell_type": "code",
   "execution_count": 36,
   "metadata": {},
   "outputs": [],
   "source": [
    "# saving the model for later inference (if training is to be continued another saving method is recommended)\n",
    "#save_path = './models/model_big.pt'  # Last save had valid loss = 9.8e-5\n",
    "#torch.save(model_big.state_dict(), save_path)\n",
    "# model_big = nn.Sequential()\n",
    "# model_big.load_state_dict(torch.load(save_path))\n",
    "# model.eval()"
   ]
  },
  {
   "cell_type": "code",
   "execution_count": 37,
   "metadata": {},
   "outputs": [
    {
     "name": "stdout",
     "output_type": "stream",
     "text": [
      "Inp: tensor([ 1.6863, -0.7095,  1.6946,  0.2721])\n",
      "Out: tensor([ 1.6694, -0.7080,  1.6755,  0.2910], grad_fn=<AddBackward0>)\n",
      " \n",
      "Inp: tensor([ 0.1766, -0.1649, -0.0310, -0.5931])\n",
      "Out: tensor([ 0.1822, -0.1617, -0.0345, -0.5981], grad_fn=<AddBackward0>)\n",
      " \n",
      "Inp: tensor([-0.3746,  0.6508,  1.3037, -0.5510])\n",
      "Out: tensor([-0.3825,  0.6453,  1.3111, -0.5498], grad_fn=<AddBackward0>)\n",
      " \n",
      "Inp: tensor([-0.3711, -0.0072,  1.0894, -0.7293])\n",
      "Out: tensor([-0.3688, -0.0102,  1.0888, -0.7315], grad_fn=<AddBackward0>)\n",
      " \n",
      "Inp: tensor([-0.7818, -0.3965,  1.1572, -0.7662])\n",
      "Out: tensor([-0.7768, -0.3949,  1.1523, -0.7668], grad_fn=<AddBackward0>)\n",
      " \n"
     ]
    }
   ],
   "source": [
    "model_big.eval()\n",
    "# Print a few tensors\n",
    "for ii in np.arange(100, 105):\n",
    "    data = valid_ds.tensors[0][ii]\n",
    "    pred = model_big(data)\n",
    "    print('Inp:', data)\n",
    "    print('Out:', pred)\n",
    "    print(' ')"
   ]
  },
  {
   "cell_type": "code",
   "execution_count": 38,
   "metadata": {},
   "outputs": [],
   "source": [
    "#Get some data for comparison\n",
    "data = valid_ds.tensors[0][idxs[0]:idxs[1]]\n",
    "pred_big = model_big(data).detach().numpy()"
   ]
  },
  {
   "cell_type": "code",
   "execution_count": 39,
   "metadata": {},
   "outputs": [
    {
     "data": {
      "image/png": "[encoded data removed]",
      "text/plain": [
       "<Figure size 288x216 with 1 Axes>"
      ]
     },
     "metadata": {
      "needs_background": "light"
     },
     "output_type": "display_data"
    },
    {
     "data": {
      "image/png": "[encoded data removed]",
      "text/plain": [
       "<Figure size 288x216 with 1 Axes>"
      ]
     },
     "metadata": {
      "needs_background": "light"
     },
     "output_type": "display_data"
    },
    {
     "data": {
      "image/png": "[encoded data removed]",
      "text/plain": [
       "<Figure size 288x216 with 1 Axes>"
      ]
     },
     "metadata": {
      "needs_background": "light"
     },
     "output_type": "display_data"
    },
    {
     "data": {
      "image/png": "[encoded data removed]",
      "text/plain": [
       "<Figure size 288x216 with 1 Axes>"
      ]
     },
     "metadata": {
      "needs_background": "light"
     },
     "output_type": "display_data"
    }
   ],
   "source": [
    "# Plot reconstructed input on top of output\n",
    "linewd = 3\n",
    "line_style = ['-', '--']\n",
    "colors = ['c', 'orange']\n",
    "fontsz = 16\n",
    "figsz = (4, 3)\n",
    "for kk in np.arange(4):\n",
    "    plt.figure(kk, figsize=figsz)\n",
    "    plt.plot(pred_big[:, kk], color=colors[0], label='Output', linestyle=line_style[0], linewidth=linewd)\n",
    "    plt.plot(data[:, kk], color=colors[1], label='Input', linestyle=line_style[1], linewidth=linewd)\n",
    "    plt.title(df.columns[kk], fontsize=fontsz)\n",
    "    plt.xlabel('Event', fontsize=fontsz)\n",
    "    plt.ylabel(df.columns[kk], fontsize=fontsz)"
   ]
  },
  {
   "cell_type": "code",
   "execution_count": null,
   "metadata": {},
   "outputs": [],
   "source": []
  }
 ],
 "metadata": {
  "kernelspec": {
   "display_name": "Python3.7 (fastairoot)",
   "language": "python",
   "name": "fastairoot"
  },
  "language_info": {
   "codemirror_mode": {
    "name": "ipython",
    "version": 3
   },
   "file_extension": ".py",
   "mimetype": "text/x-python",
   "name": "python",
   "nbconvert_exporter": "python",
   "pygments_lexer": "ipython3",
   "version": "3.7.3"
  }
 },
 "nbformat": 4,
 "nbformat_minor": 2
}
