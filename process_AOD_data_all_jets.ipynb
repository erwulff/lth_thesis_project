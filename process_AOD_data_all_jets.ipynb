{
 "cells": [
  {
   "cell_type": "code",
   "execution_count": 1,
   "metadata": {},
   "outputs": [],
   "source": [
    "%matplotlib inline\n",
    "\n",
    "import matplotlib.pyplot as plt\n",
    "import numpy as np\n",
    "import pandas as pd\n",
    "import uproot"
   ]
  },
  {
   "cell_type": "code",
   "execution_count": 2,
   "metadata": {},
   "outputs": [],
   "source": [
    "from sklearn.model_selection import train_test_split\n",
    "\n",
    "import torch\n",
    "import torch.nn as nn\n",
    "import torch.optim as optim\n",
    "from torch.utils.data import TensorDataset\n",
    "from torch.utils.data import DataLoader"
   ]
  },
  {
   "cell_type": "code",
   "execution_count": 4,
   "metadata": {},
   "outputs": [],
   "source": [
    "# Load AOD ntuple\n",
    "path_to_data = '../data/aods/'\n",
    "\n",
    "# Load a ROOT file\n",
    "folder = 'data18_13TeV.00364292.calibration_DataScouting_05_Jets.deriv.DAOD_TRIG6.r10657_p3592_p3754/'\n",
    "fname = 'DAOD_TRIG6.16825104._000035.pool.root'\n",
    "filePath = path_to_data + folder + fname\n",
    "#ttree = uproot.open(filePath)['outTree']['nominal']\n",
    "tree = uproot.open(filePath)['CollectionTree']"
   ]
  },
  {
   "cell_type": "raw",
   "metadata": {},
   "source": [
    "# Load MC ntuple\n",
    "path_to_data = '../data/MC/DAOD_EXOT2/'\n",
    "fname = 'mc16_13TeV.307791.MGPy8EG_N30LO_A14N23LO_DMsA_dijet_mR0p6_gSM0p05.deriv.DAOD_EXOT2.e5687_a875_r9364_p3654/DAOD_EXOT2.15738457._000001.pool.root'\n",
    "# Load a ROOT file\n",
    "filePath = path_to_data + fname\n",
    "#ttree = uproot.open(filePath)['outTree']['nominal']\n",
    "tree = uproot.open(filePath)['CollectionTree']"
   ]
  },
  {
   "cell_type": "code",
   "execution_count": 5,
   "metadata": {
    "scrolled": true
   },
   "outputs": [
    {
     "data": {
      "text/plain": [
       "[b'ByteStreamEventInfo',\n",
       " b'TrigConfKeys',\n",
       " b'EventInfoAux.',\n",
       " b'xTrigDecisionAux.',\n",
       " b'EventInfo',\n",
       " b'xTrigDecision',\n",
       " b'HLT_xAOD__JetContainer_TrigHLTJetDSSelectorCollectionAux.',\n",
       " b'HLT_xAOD__JetContainer_TrigHLTJetDSSelectorCollection',\n",
       " b'EventInfoAuxDyn.streamTagRobs',\n",
       " b'EventInfoAuxDyn.streamTagDets',\n",
       " b'HLT_xAOD__JetContainer_TrigHLTJetDSSelectorCollectionAuxDyn.pt',\n",
       " b'HLT_xAOD__JetContainer_TrigHLTJetDSSelectorCollectionAuxDyn.eta',\n",
       " b'HLT_xAOD__JetContainer_TrigHLTJetDSSelectorCollectionAuxDyn.phi',\n",
       " b'HLT_xAOD__JetContainer_TrigHLTJetDSSelectorCollectionAuxDyn.m',\n",
       " b'HLT_xAOD__JetContainer_TrigHLTJetDSSelectorCollectionAuxDyn.constituentLinks',\n",
       " b'HLT_xAOD__JetContainer_TrigHLTJetDSSelectorCollectionAuxDyn.constituentWeights',\n",
       " b'HLT_xAOD__JetContainer_TrigHLTJetDSSelectorCollectionAuxDyn.ConstituentScale',\n",
       " b'HLT_xAOD__JetContainer_TrigHLTJetDSSelectorCollectionAuxDyn.JetEMScaleMomentum_pt',\n",
       " b'HLT_xAOD__JetContainer_TrigHLTJetDSSelectorCollectionAuxDyn.JetEMScaleMomentum_eta',\n",
       " b'HLT_xAOD__JetContainer_TrigHLTJetDSSelectorCollectionAuxDyn.JetEMScaleMomentum_phi',\n",
       " b'HLT_xAOD__JetContainer_TrigHLTJetDSSelectorCollectionAuxDyn.JetEMScaleMomentum_m',\n",
       " b'HLT_xAOD__JetContainer_TrigHLTJetDSSelectorCollectionAuxDyn.JetConstitScaleMomentum_pt',\n",
       " b'HLT_xAOD__JetContainer_TrigHLTJetDSSelectorCollectionAuxDyn.JetConstitScaleMomentum_eta',\n",
       " b'HLT_xAOD__JetContainer_TrigHLTJetDSSelectorCollectionAuxDyn.JetConstitScaleMomentum_phi',\n",
       " b'HLT_xAOD__JetContainer_TrigHLTJetDSSelectorCollectionAuxDyn.JetConstitScaleMomentum_m',\n",
       " b'HLT_xAOD__JetContainer_TrigHLTJetDSSelectorCollectionAuxDyn.InputType',\n",
       " b'HLT_xAOD__JetContainer_TrigHLTJetDSSelectorCollectionAuxDyn.AlgorithmType',\n",
       " b'HLT_xAOD__JetContainer_TrigHLTJetDSSelectorCollectionAuxDyn.SizeParameter',\n",
       " b'HLT_xAOD__JetContainer_TrigHLTJetDSSelectorCollectionAuxDyn.GhostTrack',\n",
       " b'HLT_xAOD__JetContainer_TrigHLTJetDSSelectorCollectionAuxDyn.FracSamplingMaxIndex',\n",
       " b'HLT_xAOD__JetContainer_TrigHLTJetDSSelectorCollectionAuxDyn.OriginCorrected',\n",
       " b'HLT_xAOD__JetContainer_TrigHLTJetDSSelectorCollectionAuxDyn.PileupCorrected',\n",
       " b'HLT_xAOD__JetContainer_TrigHLTJetDSSelectorCollectionAuxDyn.ActiveArea',\n",
       " b'HLT_xAOD__JetContainer_TrigHLTJetDSSelectorCollectionAuxDyn.ActiveArea4vec_eta',\n",
       " b'HLT_xAOD__JetContainer_TrigHLTJetDSSelectorCollectionAuxDyn.ActiveArea4vec_m',\n",
       " b'HLT_xAOD__JetContainer_TrigHLTJetDSSelectorCollectionAuxDyn.ActiveArea4vec_phi',\n",
       " b'HLT_xAOD__JetContainer_TrigHLTJetDSSelectorCollectionAuxDyn.ActiveArea4vec_pt',\n",
       " b'HLT_xAOD__JetContainer_TrigHLTJetDSSelectorCollectionAuxDyn.AverageLArQF',\n",
       " b'HLT_xAOD__JetContainer_TrigHLTJetDSSelectorCollectionAuxDyn.BchCorrCell',\n",
       " b'HLT_xAOD__JetContainer_TrigHLTJetDSSelectorCollectionAuxDyn.CentroidR',\n",
       " b'HLT_xAOD__JetContainer_TrigHLTJetDSSelectorCollectionAuxDyn.DetectorEta',\n",
       " b'HLT_xAOD__JetContainer_TrigHLTJetDSSelectorCollectionAuxDyn.EMFrac',\n",
       " b'HLT_xAOD__JetContainer_TrigHLTJetDSSelectorCollectionAuxDyn.FracSamplingMax',\n",
       " b'HLT_xAOD__JetContainer_TrigHLTJetDSSelectorCollectionAuxDyn.HECFrac',\n",
       " b'HLT_xAOD__JetContainer_TrigHLTJetDSSelectorCollectionAuxDyn.HECQuality',\n",
       " b'HLT_xAOD__JetContainer_TrigHLTJetDSSelectorCollectionAuxDyn.JetEtaJESScaleMomentum_eta',\n",
       " b'HLT_xAOD__JetContainer_TrigHLTJetDSSelectorCollectionAuxDyn.JetEtaJESScaleMomentum_m',\n",
       " b'HLT_xAOD__JetContainer_TrigHLTJetDSSelectorCollectionAuxDyn.JetEtaJESScaleMomentum_phi',\n",
       " b'HLT_xAOD__JetContainer_TrigHLTJetDSSelectorCollectionAuxDyn.JetEtaJESScaleMomentum_pt',\n",
       " b'HLT_xAOD__JetContainer_TrigHLTJetDSSelectorCollectionAuxDyn.JetGSCScaleMomentum_eta',\n",
       " b'HLT_xAOD__JetContainer_TrigHLTJetDSSelectorCollectionAuxDyn.JetGSCScaleMomentum_m',\n",
       " b'HLT_xAOD__JetContainer_TrigHLTJetDSSelectorCollectionAuxDyn.JetGSCScaleMomentum_phi',\n",
       " b'HLT_xAOD__JetContainer_TrigHLTJetDSSelectorCollectionAuxDyn.JetGSCScaleMomentum_pt',\n",
       " b'HLT_xAOD__JetContainer_TrigHLTJetDSSelectorCollectionAuxDyn.JetGhostArea',\n",
       " b'HLT_xAOD__JetContainer_TrigHLTJetDSSelectorCollectionAuxDyn.JetInsituScaleMomentum_eta',\n",
       " b'HLT_xAOD__JetContainer_TrigHLTJetDSSelectorCollectionAuxDyn.JetInsituScaleMomentum_m',\n",
       " b'HLT_xAOD__JetContainer_TrigHLTJetDSSelectorCollectionAuxDyn.JetInsituScaleMomentum_phi',\n",
       " b'HLT_xAOD__JetContainer_TrigHLTJetDSSelectorCollectionAuxDyn.JetInsituScaleMomentum_pt',\n",
       " b'HLT_xAOD__JetContainer_TrigHLTJetDSSelectorCollectionAuxDyn.JetPileupScaleMomentum_eta',\n",
       " b'HLT_xAOD__JetContainer_TrigHLTJetDSSelectorCollectionAuxDyn.JetPileupScaleMomentum_m',\n",
       " b'HLT_xAOD__JetContainer_TrigHLTJetDSSelectorCollectionAuxDyn.JetPileupScaleMomentum_phi',\n",
       " b'HLT_xAOD__JetContainer_TrigHLTJetDSSelectorCollectionAuxDyn.JetPileupScaleMomentum_pt',\n",
       " b'HLT_xAOD__JetContainer_TrigHLTJetDSSelectorCollectionAuxDyn.LArQuality',\n",
       " b'HLT_xAOD__JetContainer_TrigHLTJetDSSelectorCollectionAuxDyn.LeadingClusterCenterLambda',\n",
       " b'HLT_xAOD__JetContainer_TrigHLTJetDSSelectorCollectionAuxDyn.LeadingClusterPt',\n",
       " b'HLT_xAOD__JetContainer_TrigHLTJetDSSelectorCollectionAuxDyn.LeadingClusterSecondLambda',\n",
       " b'HLT_xAOD__JetContainer_TrigHLTJetDSSelectorCollectionAuxDyn.LeadingClusterSecondR',\n",
       " b'HLT_xAOD__JetContainer_TrigHLTJetDSSelectorCollectionAuxDyn.N90Constituents',\n",
       " b'HLT_xAOD__JetContainer_TrigHLTJetDSSelectorCollectionAuxDyn.NegativeE',\n",
       " b'HLT_xAOD__JetContainer_TrigHLTJetDSSelectorCollectionAuxDyn.OotFracClusters10',\n",
       " b'HLT_xAOD__JetContainer_TrigHLTJetDSSelectorCollectionAuxDyn.OotFracClusters5',\n",
       " b'HLT_xAOD__JetContainer_TrigHLTJetDSSelectorCollectionAuxDyn.Timing',\n",
       " b'HLT_xAOD__JetContainer_TrigHLTJetDSSelectorCollectionAuxDyn.Width',\n",
       " b'HLT_xAOD__JetContainer_TrigHLTJetDSSelectorCollectionAuxDyn.WidthPhi',\n",
       " b'HLT_xAOD__JetContainer_TrigHLTJetDSSelectorCollectionAuxDyn.EnergyPerSampling']"
      ]
     },
     "execution_count": 5,
     "metadata": {},
     "output_type": "execute_result"
    }
   ],
   "source": [
    "tree.keys()"
   ]
  },
  {
   "cell_type": "code",
   "execution_count": 6,
   "metadata": {},
   "outputs": [],
   "source": [
    "n_jets = sum(tree.array('HLT_xAOD__JetContainer_TrigHLTJetDSSelectorCollectionAuxDyn.pt').counts)"
   ]
  },
  {
   "cell_type": "code",
   "execution_count": 7,
   "metadata": {},
   "outputs": [
    {
     "data": {
      "text/plain": [
       "11951922"
      ]
     },
     "execution_count": 7,
     "metadata": {},
     "output_type": "execute_result"
    }
   ],
   "source": [
    "n_jets"
   ]
  },
  {
   "cell_type": "raw",
   "metadata": {},
   "source": [
    "branchnames = [\n",
    "    # 4-momentum\n",
    "    'HLT_xAOD__JetContainer_TrigHLTJetDSSelectorCollectionAuxDyn.pt',\n",
    "    'HLT_xAOD__JetContainer_TrigHLTJetDSSelectorCollectionAuxDyn.eta',\n",
    "    'HLT_xAOD__JetContainer_TrigHLTJetDSSelectorCollectionAuxDyn.phi',\n",
    "    'HLT_xAOD__JetContainer_TrigHLTJetDSSelectorCollectionAuxDyn.m',\n",
    "    # Energy deposition in each calorimeter layer\n",
    "    'HLT_xAOD__JetContainer_TrigHLTJetDSSelectorCollectionAuxDyn.EnergyPerSampling',\n",
    "    # Area of jet,used for pile-up suppression (4-vector)\n",
    "    'HLT_xAOD__JetContainer_TrigHLTJetDSSelectorCollectionAuxDyn.ActiveArea',\n",
    "    'HLT_xAOD__JetContainer_TrigHLTJetDSSelectorCollectionAuxDyn.ActiveArea4vec_eta',\n",
    "    'HLT_xAOD__JetContainer_TrigHLTJetDSSelectorCollectionAuxDyn.ActiveArea4vec_m',\n",
    "    'HLT_xAOD__JetContainer_TrigHLTJetDSSelectorCollectionAuxDyn.ActiveArea4vec_phi',\n",
    "    'HLT_xAOD__JetContainer_TrigHLTJetDSSelectorCollectionAuxDyn.ActiveArea4vec_pt',\n",
    "    'HLT_xAOD__JetContainer_TrigHLTJetDSSelectorCollectionAuxDyn.JetGhostArea',\n",
    "    # Variables related to quality of jet\n",
    "    'HLT_xAOD__JetContainer_TrigHLTJetDSSelectorCollectionAuxDyn.AverageLArQF',\n",
    "    'HLT_xAOD__JetContainer_TrigHLTJetDSSelectorCollectionAuxDyn.BchCorrCell',\n",
    "    'HLT_xAOD__JetContainer_TrigHLTJetDSSelectorCollectionAuxDyn.NegativeE',\n",
    "    'HLT_xAOD__JetContainer_TrigHLTJetDSSelectorCollectionAuxDyn.HECQuality',\n",
    "    'HLT_xAOD__JetContainer_TrigHLTJetDSSelectorCollectionAuxDyn.LArQuality',\n",
    "    # Shape and position, most energetic cluster\n",
    "    'HLT_xAOD__JetContainer_TrigHLTJetDSSelectorCollectionAuxDyn.Width',\n",
    "    'HLT_xAOD__JetContainer_TrigHLTJetDSSelectorCollectionAuxDyn.WidthPhi',\n",
    "    'HLT_xAOD__JetContainer_TrigHLTJetDSSelectorCollectionAuxDyn.CentroidR',\n",
    "    'HLT_xAOD__JetContainer_TrigHLTJetDSSelectorCollectionAuxDyn.DetectorEta',\n",
    "    'HLT_xAOD__JetContainer_TrigHLTJetDSSelectorCollectionAuxDyn.LeadingClusterCenterLambda',\n",
    "    'HLT_xAOD__JetContainer_TrigHLTJetDSSelectorCollectionAuxDyn.LeadingClusterPt',\n",
    "    'HLT_xAOD__JetContainer_TrigHLTJetDSSelectorCollectionAuxDyn.LeadingClusterSecondLambda',\n",
    "    'HLT_xAOD__JetContainer_TrigHLTJetDSSelectorCollectionAuxDyn.LeadingClusterSecondR',\n",
    "    'HLT_xAOD__JetContainer_TrigHLTJetDSSelectorCollectionAuxDyn.N90Constituents',\n",
    "    # Energy released in each calorimeter\n",
    "    'HLT_xAOD__JetContainer_TrigHLTJetDSSelectorCollectionAuxDyn.EMFrac',\n",
    "    'HLT_xAOD__JetContainer_TrigHLTJetDSSelectorCollectionAuxDyn.HECFrac',\n",
    "    # Variables related to the time of arrival of a jet\n",
    "    'HLT_xAOD__JetContainer_TrigHLTJetDSSelectorCollectionAuxDyn.Timing',\n",
    "    'HLT_xAOD__JetContainer_TrigHLTJetDSSelectorCollectionAuxDyn.OotFracClusters10',\n",
    "    'HLT_xAOD__JetContainer_TrigHLTJetDSSelectorCollectionAuxDyn.OotFracClusters5',\n",
    "]"
   ]
  },
  {
   "cell_type": "code",
   "execution_count": 18,
   "metadata": {},
   "outputs": [],
   "source": [
    "prefix = 'HLT_xAOD__JetContainer_TrigHLTJetDSSelectorCollectionAuxDyn'\n",
    "#prefix = 'HLT_xAOD__JetContainer_a4tcemsubjesISFSAuxDyn'\n",
    "branchnames = [\n",
    "    # 4-momentum\n",
    "    prefix + '.pt',\n",
    "    prefix + '.eta',\n",
    "    prefix + '.phi',\n",
    "    prefix + '.m',\n",
    "    # Energy deposition in each calorimeter layer\n",
    "    # prefix + '.EnergyPerSampling',\n",
    "    # Area of jet,used for pile-up suppression (4-vector)\n",
    "    prefix + '.ActiveArea',\n",
    "    prefix + '.ActiveArea4vec_eta',\n",
    "    prefix + '.ActiveArea4vec_m',\n",
    "    prefix + '.ActiveArea4vec_phi',\n",
    "    prefix + '.ActiveArea4vec_pt',\n",
    "    # prefix + '.JetGhostArea',\n",
    "    # Variables related to quality of jet\n",
    "    prefix + '.AverageLArQF',\n",
    "    # prefix + '.BchCorrCell',\n",
    "    prefix + '.NegativeE',\n",
    "    prefix + '.HECQuality',\n",
    "    prefix + '.LArQuality',\n",
    "    # Shape and position, most energetic cluster\n",
    "    prefix + '.Width',\n",
    "    prefix + '.WidthPhi',\n",
    "    prefix + '.CentroidR',\n",
    "    prefix + '.DetectorEta',\n",
    "    prefix + '.LeadingClusterCenterLambda',\n",
    "    prefix + '.LeadingClusterPt',\n",
    "    prefix + '.LeadingClusterSecondLambda',\n",
    "    prefix + '.LeadingClusterSecondR',\n",
    "    prefix + '.N90Constituents',\n",
    "    # Energy released in each calorimeter\n",
    "    prefix + '.EMFrac',\n",
    "    prefix + '.HECFrac',\n",
    "    # Variables related to the time of arrival of a jet\n",
    "    prefix + '.Timing',\n",
    "    prefix + '.OotFracClusters10',\n",
    "    prefix + '.OotFracClusters5',\n",
    "]"
   ]
  },
  {
   "cell_type": "code",
   "execution_count": 19,
   "metadata": {},
   "outputs": [
    {
     "data": {
      "text/plain": [
       "27"
      ]
     },
     "execution_count": 19,
     "metadata": {},
     "output_type": "execute_result"
    }
   ],
   "source": [
    "len(branchnames)"
   ]
  },
  {
   "cell_type": "raw",
   "metadata": {},
   "source": [
    "EnergyPerSampling = tree.array(branchnames[4])\n",
    "n_events = len(EnergyPerSampling)"
   ]
  },
  {
   "cell_type": "raw",
   "metadata": {},
   "source": [
    "n_events"
   ]
  },
  {
   "cell_type": "raw",
   "metadata": {},
   "source": [
    "arr = -np.ones(shape=(n_jets, 28))\n",
    "curr_i = 0\n",
    "for ii, layers in enumerate(EnergyPerSampling):\n",
    "    layers = np.array(layers)\n",
    "    n_jets_curr = layers.shape[0]\n",
    "    arr[curr_i:curr_i + n_jets_curr, :] = layers\n",
    "    curr_i = curr_i + n_jets_curr\n",
    "    if ii % 300000 == 0:\n",
    "        print(str((ii * 100) // len(EnergyPerSampling)) + '%')\n",
    "print('100%')\n",
    "arr.shape"
   ]
  },
  {
   "cell_type": "raw",
   "metadata": {},
   "source": [
    "del EnergyPerSampling  # Free up memory"
   ]
  },
  {
   "cell_type": "raw",
   "metadata": {
    "scrolled": false
   },
   "source": [
    "e_samp_df = pd.DataFrame(data=arr, columns=['EnergyPerSampling%d' % kk for kk in np.arange(28)])"
   ]
  },
  {
   "cell_type": "raw",
   "metadata": {},
   "source": [
    "del arr"
   ]
  },
  {
   "cell_type": "raw",
   "metadata": {},
   "source": [
    "e_samp_df"
   ]
  },
  {
   "cell_type": "code",
   "execution_count": 20,
   "metadata": {
    "scrolled": false
   },
   "outputs": [
    {
     "name": "stdout",
     "output_type": "stream",
     "text": [
      "0 %\n",
      "11 %\n",
      "22 %\n",
      "33 %\n",
      "44 %\n",
      "55 %\n",
      "66 %\n",
      "77 %\n",
      "88 %\n",
      "100%\n",
      "Creating DataFrame...\n",
      "done.\n"
     ]
    }
   ],
   "source": [
    "df_dict = {}\n",
    "for pp, branchname in enumerate(branchnames):\n",
    "    if 'EnergyPerSampling' in branchname:\n",
    "        pass\n",
    "    else:\n",
    "        variable = branchname.split('.')[1]\n",
    "        df_dict[variable] = []\n",
    "        jaggedX = tree.array(branchname)\n",
    "        for ii, arr in enumerate(jaggedX):\n",
    "            for kk, val in enumerate(arr):\n",
    "                df_dict[variable].append(val)\n",
    "    if pp % 3 == 0:\n",
    "        print((pp * 100) // len(branchnames), '%')\n",
    "print('100%')\n",
    "print('Creating DataFrame...')\n",
    "partial_df = pd.DataFrame(data=df_dict)\n",
    "print('done.')"
   ]
  },
  {
   "cell_type": "code",
   "execution_count": 21,
   "metadata": {},
   "outputs": [],
   "source": [
    "del df_dict"
   ]
  },
  {
   "cell_type": "code",
   "execution_count": 22,
   "metadata": {
    "scrolled": false
   },
   "outputs": [
    {
     "data": {
      "text/html": [
       "<div>\n",
       "<style scoped>\n",
       "    .dataframe tbody tr th:only-of-type {\n",
       "        vertical-align: middle;\n",
       "    }\n",
       "\n",
       "    .dataframe tbody tr th {\n",
       "        vertical-align: top;\n",
       "    }\n",
       "\n",
       "    .dataframe thead th {\n",
       "        text-align: right;\n",
       "    }\n",
       "</style>\n",
       "<table border=\"1\" class=\"dataframe\">\n",
       "  <thead>\n",
       "    <tr style=\"text-align: right;\">\n",
       "      <th></th>\n",
       "      <th>pt</th>\n",
       "      <th>eta</th>\n",
       "      <th>phi</th>\n",
       "      <th>m</th>\n",
       "      <th>ActiveArea</th>\n",
       "      <th>ActiveArea4vec_eta</th>\n",
       "      <th>ActiveArea4vec_m</th>\n",
       "      <th>ActiveArea4vec_phi</th>\n",
       "      <th>ActiveArea4vec_pt</th>\n",
       "      <th>AverageLArQF</th>\n",
       "      <th>...</th>\n",
       "      <th>LeadingClusterCenterLambda</th>\n",
       "      <th>LeadingClusterPt</th>\n",
       "      <th>LeadingClusterSecondLambda</th>\n",
       "      <th>LeadingClusterSecondR</th>\n",
       "      <th>N90Constituents</th>\n",
       "      <th>EMFrac</th>\n",
       "      <th>HECFrac</th>\n",
       "      <th>Timing</th>\n",
       "      <th>OotFracClusters10</th>\n",
       "      <th>OotFracClusters5</th>\n",
       "    </tr>\n",
       "  </thead>\n",
       "  <tbody>\n",
       "    <tr>\n",
       "      <td>0</td>\n",
       "      <td>90306.070312</td>\n",
       "      <td>0.308789</td>\n",
       "      <td>-1.921283</td>\n",
       "      <td>6840.930176</td>\n",
       "      <td>0.498666</td>\n",
       "      <td>0.318246</td>\n",
       "      <td>0.140055</td>\n",
       "      <td>-1.924426</td>\n",
       "      <td>0.489299</td>\n",
       "      <td>160.179611</td>\n",
       "      <td>...</td>\n",
       "      <td>178.461990</td>\n",
       "      <td>60102.636719</td>\n",
       "      <td>15984.612305</td>\n",
       "      <td>13437.013672</td>\n",
       "      <td>3.0</td>\n",
       "      <td>0.888970</td>\n",
       "      <td>0.000000</td>\n",
       "      <td>1.078428</td>\n",
       "      <td>0.004533</td>\n",
       "      <td>0.117972</td>\n",
       "    </tr>\n",
       "    <tr>\n",
       "      <td>1</td>\n",
       "      <td>38400.785156</td>\n",
       "      <td>1.652859</td>\n",
       "      <td>1.518780</td>\n",
       "      <td>6869.742676</td>\n",
       "      <td>0.528585</td>\n",
       "      <td>1.665649</td>\n",
       "      <td>0.153715</td>\n",
       "      <td>1.519727</td>\n",
       "      <td>0.517078</td>\n",
       "      <td>959.112549</td>\n",
       "      <td>...</td>\n",
       "      <td>783.411194</td>\n",
       "      <td>7884.223633</td>\n",
       "      <td>4201.925293</td>\n",
       "      <td>18003.751953</td>\n",
       "      <td>12.0</td>\n",
       "      <td>0.863779</td>\n",
       "      <td>0.017756</td>\n",
       "      <td>-0.063829</td>\n",
       "      <td>0.045438</td>\n",
       "      <td>0.045438</td>\n",
       "    </tr>\n",
       "    <tr>\n",
       "      <td>2</td>\n",
       "      <td>23870.822266</td>\n",
       "      <td>-0.104421</td>\n",
       "      <td>0.650640</td>\n",
       "      <td>4165.587891</td>\n",
       "      <td>0.468746</td>\n",
       "      <td>-0.099568</td>\n",
       "      <td>0.127942</td>\n",
       "      <td>0.659688</td>\n",
       "      <td>0.460727</td>\n",
       "      <td>96.914841</td>\n",
       "      <td>...</td>\n",
       "      <td>247.017471</td>\n",
       "      <td>8997.914062</td>\n",
       "      <td>8866.488281</td>\n",
       "      <td>7871.465332</td>\n",
       "      <td>5.0</td>\n",
       "      <td>0.696391</td>\n",
       "      <td>0.000000</td>\n",
       "      <td>0.870779</td>\n",
       "      <td>0.075354</td>\n",
       "      <td>0.075354</td>\n",
       "    </tr>\n",
       "    <tr>\n",
       "      <td>3</td>\n",
       "      <td>20065.375000</td>\n",
       "      <td>3.540296</td>\n",
       "      <td>-0.125675</td>\n",
       "      <td>0.000000</td>\n",
       "      <td>0.468746</td>\n",
       "      <td>3.598612</td>\n",
       "      <td>0.128710</td>\n",
       "      <td>-0.120809</td>\n",
       "      <td>0.460141</td>\n",
       "      <td>122.971771</td>\n",
       "      <td>...</td>\n",
       "      <td>224.390015</td>\n",
       "      <td>9869.475586</td>\n",
       "      <td>481.461517</td>\n",
       "      <td>388.865387</td>\n",
       "      <td>1.0</td>\n",
       "      <td>1.013493</td>\n",
       "      <td>0.000000</td>\n",
       "      <td>0.162639</td>\n",
       "      <td>0.000000</td>\n",
       "      <td>0.000000</td>\n",
       "    </tr>\n",
       "    <tr>\n",
       "      <td>4</td>\n",
       "      <td>123364.226562</td>\n",
       "      <td>-1.344482</td>\n",
       "      <td>1.154525</td>\n",
       "      <td>10920.023438</td>\n",
       "      <td>0.488692</td>\n",
       "      <td>-1.343978</td>\n",
       "      <td>0.136743</td>\n",
       "      <td>1.147211</td>\n",
       "      <td>0.479669</td>\n",
       "      <td>170.411270</td>\n",
       "      <td>...</td>\n",
       "      <td>5170.814453</td>\n",
       "      <td>44042.378906</td>\n",
       "      <td>165553.234375</td>\n",
       "      <td>76716.382812</td>\n",
       "      <td>3.0</td>\n",
       "      <td>0.324276</td>\n",
       "      <td>0.000000</td>\n",
       "      <td>0.707971</td>\n",
       "      <td>0.019895</td>\n",
       "      <td>0.026191</td>\n",
       "    </tr>\n",
       "    <tr>\n",
       "      <td>...</td>\n",
       "      <td>...</td>\n",
       "      <td>...</td>\n",
       "      <td>...</td>\n",
       "      <td>...</td>\n",
       "      <td>...</td>\n",
       "      <td>...</td>\n",
       "      <td>...</td>\n",
       "      <td>...</td>\n",
       "      <td>...</td>\n",
       "      <td>...</td>\n",
       "      <td>...</td>\n",
       "      <td>...</td>\n",
       "      <td>...</td>\n",
       "      <td>...</td>\n",
       "      <td>...</td>\n",
       "      <td>...</td>\n",
       "      <td>...</td>\n",
       "      <td>...</td>\n",
       "      <td>...</td>\n",
       "      <td>...</td>\n",
       "      <td>...</td>\n",
       "    </tr>\n",
       "    <tr>\n",
       "      <td>11951917</td>\n",
       "      <td>114079.367188</td>\n",
       "      <td>-0.394999</td>\n",
       "      <td>-2.638226</td>\n",
       "      <td>16422.587891</td>\n",
       "      <td>0.518612</td>\n",
       "      <td>-0.406506</td>\n",
       "      <td>0.149505</td>\n",
       "      <td>-2.651042</td>\n",
       "      <td>0.507893</td>\n",
       "      <td>163.736084</td>\n",
       "      <td>...</td>\n",
       "      <td>372.346924</td>\n",
       "      <td>40667.167969</td>\n",
       "      <td>191986.656250</td>\n",
       "      <td>9667.271484</td>\n",
       "      <td>6.0</td>\n",
       "      <td>0.705080</td>\n",
       "      <td>0.000000</td>\n",
       "      <td>0.798371</td>\n",
       "      <td>0.000000</td>\n",
       "      <td>0.003736</td>\n",
       "    </tr>\n",
       "    <tr>\n",
       "      <td>11951918</td>\n",
       "      <td>99418.195312</td>\n",
       "      <td>1.514059</td>\n",
       "      <td>1.055971</td>\n",
       "      <td>14655.088867</td>\n",
       "      <td>0.528585</td>\n",
       "      <td>1.521448</td>\n",
       "      <td>0.152478</td>\n",
       "      <td>1.062383</td>\n",
       "      <td>0.517441</td>\n",
       "      <td>241.464371</td>\n",
       "      <td>...</td>\n",
       "      <td>73.819290</td>\n",
       "      <td>34442.792969</td>\n",
       "      <td>122756.203125</td>\n",
       "      <td>18290.041016</td>\n",
       "      <td>6.0</td>\n",
       "      <td>0.659999</td>\n",
       "      <td>0.100663</td>\n",
       "      <td>-0.496756</td>\n",
       "      <td>0.002235</td>\n",
       "      <td>0.019293</td>\n",
       "    </tr>\n",
       "    <tr>\n",
       "      <td>11951919</td>\n",
       "      <td>96017.484375</td>\n",
       "      <td>0.754035</td>\n",
       "      <td>1.596357</td>\n",
       "      <td>6563.273926</td>\n",
       "      <td>0.528585</td>\n",
       "      <td>0.755031</td>\n",
       "      <td>0.153312</td>\n",
       "      <td>1.598242</td>\n",
       "      <td>0.517397</td>\n",
       "      <td>269.018890</td>\n",
       "      <td>...</td>\n",
       "      <td>229.239685</td>\n",
       "      <td>45135.984375</td>\n",
       "      <td>16261.896484</td>\n",
       "      <td>8211.402344</td>\n",
       "      <td>3.0</td>\n",
       "      <td>0.840508</td>\n",
       "      <td>0.000000</td>\n",
       "      <td>1.625721</td>\n",
       "      <td>0.022706</td>\n",
       "      <td>0.206683</td>\n",
       "    </tr>\n",
       "    <tr>\n",
       "      <td>11951920</td>\n",
       "      <td>65371.445312</td>\n",
       "      <td>-0.684227</td>\n",
       "      <td>1.889014</td>\n",
       "      <td>7944.513672</td>\n",
       "      <td>0.488692</td>\n",
       "      <td>-0.693882</td>\n",
       "      <td>0.137595</td>\n",
       "      <td>1.888648</td>\n",
       "      <td>0.479640</td>\n",
       "      <td>1473.081909</td>\n",
       "      <td>...</td>\n",
       "      <td>187.929688</td>\n",
       "      <td>24728.742188</td>\n",
       "      <td>18120.142578</td>\n",
       "      <td>4310.512695</td>\n",
       "      <td>6.0</td>\n",
       "      <td>0.800413</td>\n",
       "      <td>0.000000</td>\n",
       "      <td>-0.010618</td>\n",
       "      <td>0.036225</td>\n",
       "      <td>0.053988</td>\n",
       "    </tr>\n",
       "    <tr>\n",
       "      <td>11951921</td>\n",
       "      <td>43909.980469</td>\n",
       "      <td>-1.783105</td>\n",
       "      <td>-1.426793</td>\n",
       "      <td>6217.914062</td>\n",
       "      <td>0.418879</td>\n",
       "      <td>-1.831874</td>\n",
       "      <td>0.112905</td>\n",
       "      <td>-1.494630</td>\n",
       "      <td>0.413035</td>\n",
       "      <td>372.192261</td>\n",
       "      <td>...</td>\n",
       "      <td>1040.112671</td>\n",
       "      <td>8532.130859</td>\n",
       "      <td>71101.593750</td>\n",
       "      <td>18939.312500</td>\n",
       "      <td>9.0</td>\n",
       "      <td>0.685477</td>\n",
       "      <td>0.314346</td>\n",
       "      <td>0.283274</td>\n",
       "      <td>0.032463</td>\n",
       "      <td>0.111270</td>\n",
       "    </tr>\n",
       "  </tbody>\n",
       "</table>\n",
       "<p>11951922 rows × 27 columns</p>\n",
       "</div>"
      ],
      "text/plain": [
       "                     pt       eta       phi             m  ActiveArea  \\\n",
       "0          90306.070312  0.308789 -1.921283   6840.930176    0.498666   \n",
       "1          38400.785156  1.652859  1.518780   6869.742676    0.528585   \n",
       "2          23870.822266 -0.104421  0.650640   4165.587891    0.468746   \n",
       "3          20065.375000  3.540296 -0.125675      0.000000    0.468746   \n",
       "4         123364.226562 -1.344482  1.154525  10920.023438    0.488692   \n",
       "...                 ...       ...       ...           ...         ...   \n",
       "11951917  114079.367188 -0.394999 -2.638226  16422.587891    0.518612   \n",
       "11951918   99418.195312  1.514059  1.055971  14655.088867    0.528585   \n",
       "11951919   96017.484375  0.754035  1.596357   6563.273926    0.528585   \n",
       "11951920   65371.445312 -0.684227  1.889014   7944.513672    0.488692   \n",
       "11951921   43909.980469 -1.783105 -1.426793   6217.914062    0.418879   \n",
       "\n",
       "          ActiveArea4vec_eta  ActiveArea4vec_m  ActiveArea4vec_phi  \\\n",
       "0                   0.318246          0.140055           -1.924426   \n",
       "1                   1.665649          0.153715            1.519727   \n",
       "2                  -0.099568          0.127942            0.659688   \n",
       "3                   3.598612          0.128710           -0.120809   \n",
       "4                  -1.343978          0.136743            1.147211   \n",
       "...                      ...               ...                 ...   \n",
       "11951917           -0.406506          0.149505           -2.651042   \n",
       "11951918            1.521448          0.152478            1.062383   \n",
       "11951919            0.755031          0.153312            1.598242   \n",
       "11951920           -0.693882          0.137595            1.888648   \n",
       "11951921           -1.831874          0.112905           -1.494630   \n",
       "\n",
       "          ActiveArea4vec_pt  AverageLArQF  ...  LeadingClusterCenterLambda  \\\n",
       "0                  0.489299    160.179611  ...                  178.461990   \n",
       "1                  0.517078    959.112549  ...                  783.411194   \n",
       "2                  0.460727     96.914841  ...                  247.017471   \n",
       "3                  0.460141    122.971771  ...                  224.390015   \n",
       "4                  0.479669    170.411270  ...                 5170.814453   \n",
       "...                     ...           ...  ...                         ...   \n",
       "11951917           0.507893    163.736084  ...                  372.346924   \n",
       "11951918           0.517441    241.464371  ...                   73.819290   \n",
       "11951919           0.517397    269.018890  ...                  229.239685   \n",
       "11951920           0.479640   1473.081909  ...                  187.929688   \n",
       "11951921           0.413035    372.192261  ...                 1040.112671   \n",
       "\n",
       "          LeadingClusterPt  LeadingClusterSecondLambda  LeadingClusterSecondR  \\\n",
       "0             60102.636719                15984.612305           13437.013672   \n",
       "1              7884.223633                 4201.925293           18003.751953   \n",
       "2              8997.914062                 8866.488281            7871.465332   \n",
       "3              9869.475586                  481.461517             388.865387   \n",
       "4             44042.378906               165553.234375           76716.382812   \n",
       "...                    ...                         ...                    ...   \n",
       "11951917      40667.167969               191986.656250            9667.271484   \n",
       "11951918      34442.792969               122756.203125           18290.041016   \n",
       "11951919      45135.984375                16261.896484            8211.402344   \n",
       "11951920      24728.742188                18120.142578            4310.512695   \n",
       "11951921       8532.130859                71101.593750           18939.312500   \n",
       "\n",
       "          N90Constituents    EMFrac   HECFrac    Timing  OotFracClusters10  \\\n",
       "0                     3.0  0.888970  0.000000  1.078428           0.004533   \n",
       "1                    12.0  0.863779  0.017756 -0.063829           0.045438   \n",
       "2                     5.0  0.696391  0.000000  0.870779           0.075354   \n",
       "3                     1.0  1.013493  0.000000  0.162639           0.000000   \n",
       "4                     3.0  0.324276  0.000000  0.707971           0.019895   \n",
       "...                   ...       ...       ...       ...                ...   \n",
       "11951917              6.0  0.705080  0.000000  0.798371           0.000000   \n",
       "11951918              6.0  0.659999  0.100663 -0.496756           0.002235   \n",
       "11951919              3.0  0.840508  0.000000  1.625721           0.022706   \n",
       "11951920              6.0  0.800413  0.000000 -0.010618           0.036225   \n",
       "11951921              9.0  0.685477  0.314346  0.283274           0.032463   \n",
       "\n",
       "          OotFracClusters5  \n",
       "0                 0.117972  \n",
       "1                 0.045438  \n",
       "2                 0.075354  \n",
       "3                 0.000000  \n",
       "4                 0.026191  \n",
       "...                    ...  \n",
       "11951917          0.003736  \n",
       "11951918          0.019293  \n",
       "11951919          0.206683  \n",
       "11951920          0.053988  \n",
       "11951921          0.111270  \n",
       "\n",
       "[11951922 rows x 27 columns]"
      ]
     },
     "execution_count": 22,
     "metadata": {},
     "output_type": "execute_result"
    }
   ],
   "source": [
    "partial_df"
   ]
  },
  {
   "cell_type": "code",
   "execution_count": 23,
   "metadata": {},
   "outputs": [
    {
     "data": {
      "text/plain": [
       "Index(['pt', 'eta', 'phi', 'm', 'ActiveArea', 'ActiveArea4vec_eta',\n",
       "       'ActiveArea4vec_m', 'ActiveArea4vec_phi', 'ActiveArea4vec_pt',\n",
       "       'AverageLArQF', 'NegativeE', 'HECQuality', 'LArQuality', 'Width',\n",
       "       'WidthPhi', 'CentroidR', 'DetectorEta', 'LeadingClusterCenterLambda',\n",
       "       'LeadingClusterPt', 'LeadingClusterSecondLambda',\n",
       "       'LeadingClusterSecondR', 'N90Constituents', 'EMFrac', 'HECFrac',\n",
       "       'Timing', 'OotFracClusters10', 'OotFracClusters5'],\n",
       "      dtype='object')"
      ]
     },
     "execution_count": 23,
     "metadata": {},
     "output_type": "execute_result"
    }
   ],
   "source": [
    "partial_df.columns"
   ]
  },
  {
   "cell_type": "raw",
   "metadata": {},
   "source": [
    "full_df = partial_df.join(e_samp_df)"
   ]
  },
  {
   "cell_type": "raw",
   "metadata": {},
   "source": [
    "del e_samp_df"
   ]
  },
  {
   "cell_type": "raw",
   "metadata": {
    "scrolled": true
   },
   "source": [
    "full_df"
   ]
  },
  {
   "cell_type": "code",
   "execution_count": 24,
   "metadata": {},
   "outputs": [
    {
     "name": "stdout",
     "output_type": "stream",
     "text": [
      "(9561537, 27) (2390385, 27)\n"
     ]
    }
   ],
   "source": [
    "partial_train, partial_test = train_test_split(partial_df, test_size=0.2, random_state=41)\n",
    "#full_train, full_test = train_test_split(full_df, test_size=0.2, random_state=41)\n",
    "print(partial_train.shape, partial_test.shape)\n",
    "#print(full_train.shape, full_test.shape)"
   ]
  },
  {
   "cell_type": "raw",
   "metadata": {},
   "source": [
    "partial_train_20percent = partial_train.sample(frac=0.2, random_state=42).reset_index(drop=True)  # Pick out a fraction of the data\n",
    "partial_test_20percent = partial_test.sample(frac=0.2, random_state=42).reset_index(drop=True)"
   ]
  },
  {
   "cell_type": "code",
   "execution_count": 25,
   "metadata": {},
   "outputs": [],
   "source": [
    "partial_train_10percent = partial_train.sample(frac=0.1, random_state=42).reset_index(drop=True)  # Pick out a fraction of the data\n",
    "partial_test_10percent = partial_test.sample(frac=0.1, random_state=42).reset_index(drop=True)"
   ]
  },
  {
   "cell_type": "raw",
   "metadata": {},
   "source": [
    "partial_train_5percent = partial_train.sample(frac=0.05, random_state=42).reset_index(drop=True)  # Pick out a fraction of the data\n",
    "partial_test_5percent = partial_test.sample(frac=0.05, random_state=42).reset_index(drop=True)"
   ]
  },
  {
   "cell_type": "code",
   "execution_count": 25,
   "metadata": {},
   "outputs": [],
   "source": [
    "# Save train and test sets\n",
    "\n",
    "#partial_train_20percent.to_pickle('processed_data/aod/all_jets_partial_train_20percent.pkl')\n",
    "#partial_test_20percent.to_pickle('processed_data/aod/all_jets_partial_test_20percent.pkl')\n",
    "\n",
    "#partial_train_10percent.to_pickle('processed_data/aod/all_jets_partial_train_10percent.pkl')\n",
    "#partial_test_10percent.to_pickle('processed_data/aod/all_jets_partial_test_10percent.pkl')\n",
    "\n",
    "#partial_train_5percent.to_pickle('processed_data/aod/all_jets_partial_train_5percent.pkl')\n",
    "#partial_test_5percent.to_pickle('processed_data/aod/all_jets_partial_test_5percent.pkl')\n",
    "\n",
    "#partial_train.to_pickle('processed_data/aod/all_jets_partial_train.pkl')\n",
    "#partial_test.to_pickle('processed_data/aod/all_jets_partial_test.pkl')\n",
    "#full_train.to_pickle('processed_data/aod/all_jets_full_train.pkl')\n",
    "#full_test.to_pickle('processed_data/aod/all_jets_full_test.pkl')\n",
    "# train = pd.read_pickle('processed_data/train.pkl')\n",
    "# test = pd.read_pickle('processed_data/test.pkl')"
   ]
  },
  {
   "cell_type": "code",
   "execution_count": 23,
   "metadata": {},
   "outputs": [],
   "source": [
    "partial_df.to_pickle('processed_data/aod/mc_1.pkl')"
   ]
  },
  {
   "cell_type": "code",
   "execution_count": null,
   "metadata": {},
   "outputs": [],
   "source": []
  }
 ],
 "metadata": {
  "kernelspec": {
   "display_name": "Python3.7 (fastairoot)",
   "language": "python",
   "name": "fastairoot"
  },
  "language_info": {
   "codemirror_mode": {
    "name": "ipython",
    "version": 3
   },
   "file_extension": ".py",
   "mimetype": "text/x-python",
   "name": "python",
   "nbconvert_exporter": "python",
   "pygments_lexer": "ipython3",
   "version": "3.7.3"
  }
 },
 "nbformat": 4,
 "nbformat_minor": 2
}
