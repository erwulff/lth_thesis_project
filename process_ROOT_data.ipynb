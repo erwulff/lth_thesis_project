{
 "cells": [
  {
   "cell_type": "code",
   "execution_count": 88,
   "metadata": {},
   "outputs": [],
   "source": [
    "%matplotlib inline\n",
    "\n",
    "import matplotlib.pyplot as plt\n",
    "import numpy as np\n",
    "import pandas as pd\n",
    "import uproot"
   ]
  },
  {
   "cell_type": "code",
   "execution_count": 89,
   "metadata": {},
   "outputs": [],
   "source": [
    "from sklearn.model_selection import train_test_split\n",
    "\n",
    "import torch\n",
    "import torch.nn as nn\n",
    "import torch.optim as optim\n",
    "from torch.utils.data import TensorDataset\n",
    "from torch.utils.data import DataLoader"
   ]
  },
  {
   "cell_type": "code",
   "execution_count": 90,
   "metadata": {},
   "outputs": [],
   "source": [
    "path_to_data = '../data/'\n",
    "\n",
    "folder15 = 'breynold/user.breynold.data15_13TeV.00284484.physics_Main.DAOD_NTUP_JTRIG_JETM1.r9264_p3083_p3601_j042_tree.root/'\n",
    "file15 = 'user.breynold.18753218._000001.tree.root'\n",
    "folder16 = 'breynold/user.breynold.data16_13TeV.00307656.physics_Main.DAOD_NTUP_JTRIG_JETM1.r9264_p3083_p3601_j042_tree.root/'\n",
    "file16 = 'user.breynold.18797259._000001.tree.root'\n",
    "\n",
    "folder = 'doglioni/'\n",
    "file = 'data18_13TeV.00355331.calibration_DataScouting_05_Jets.merge.AOD.r10657_p3592.root'\n",
    "file = 'dijetISRphoton.root'\n",
    "\n",
    "# Load a ROOT file\n",
    "#filePath = path_to_data + folder16 + file16\n",
    "filePath = path_to_data + folder + file\n",
    "#ttree = uproot.open(filePath)['outTree']['nominal']\n",
    "ttree = uproot.open(filePath)['CollectionTree']"
   ]
  },
  {
   "cell_type": "code",
   "execution_count": 91,
   "metadata": {},
   "outputs": [
    {
     "data": {
      "text/plain": [
       "[b'n_jet',\n",
       " b'jet_pt',\n",
       " b'jet_eta',\n",
       " b'jet_phi',\n",
       " b'jet_e',\n",
       " b'jet_Jvt',\n",
       " b'jet_btagged',\n",
       " b'n_photons',\n",
       " b'photons_pt',\n",
       " b'photons_eta',\n",
       " b'photons_phi',\n",
       " b'photons_e',\n",
       " b'photons_etcone20',\n",
       " b'photons_ptcone30',\n",
       " b'mc_event_weight',\n",
       " b'weight',\n",
       " b'av_int_per_xing',\n",
       " b'num_pv',\n",
       " b'run_number',\n",
       " b'lumi_block',\n",
       " b'mc_channel_number',\n",
       " b'event_number']"
      ]
     },
     "execution_count": 91,
     "metadata": {},
     "output_type": "execute_result"
    }
   ],
   "source": [
    "ttree.keys()"
   ]
  },
  {
   "cell_type": "code",
   "execution_count": 92,
   "metadata": {},
   "outputs": [],
   "source": [
    "branchnames = ['nAntiKt4EMTopoJets_Calib2018',\n",
    "               'AntiKt4EMTopoJets_Calib2018_E',\n",
    "               'AntiKt4EMTopoJets_Calib2018_pt',\n",
    "               'AntiKt4EMTopoJets_Calib2018_phi',\n",
    "               'AntiKt4EMTopoJets_Calib2018_eta']\n",
    "\n",
    "#branchnames = ['nDSTrigJet',\n",
    "#               'DSTrigJet_E',\n",
    "#              'DSTrigJet_pt',\n",
    "#              'DSTrigJet_phi',\n",
    "#              'DSTrigJet_eta']\n",
    "\n",
    "branchnames = ['n_jet',\n",
    "               'jet_e',\n",
    "               'jet_pt',\n",
    "               'jet_phi',\n",
    "               'jet_eta',\n",
    "               'n_photons',\n",
    "               'photons_e',\n",
    "               'photons_pt',\n",
    "               'photons_phi',\n",
    "               'photons_eta']\n",
    "\n",
    "jaggedE = ttree.array(branchnames[1])\n",
    "jaggedpT = ttree.array(branchnames[2])\n",
    "jaggedphi = ttree.array(branchnames[3])\n",
    "jaggedeta = ttree.array(branchnames[4])"
   ]
  },
  {
   "cell_type": "code",
   "execution_count": 93,
   "metadata": {},
   "outputs": [],
   "source": [
    "jaggedE_ph = ttree.array(branchnames[6])\n",
    "jaggedpT_ph = ttree.array(branchnames[7])\n",
    "jaggedphi_ph = ttree.array(branchnames[8])\n",
    "jaggedeta_ph = ttree.array(branchnames[9])"
   ]
  },
  {
   "cell_type": "code",
   "execution_count": 94,
   "metadata": {},
   "outputs": [],
   "source": [
    "def get_leading(jaggedX):\n",
    "    return jaggedX[jaggedX.counts > 0, 0]"
   ]
  },
  {
   "cell_type": "code",
   "execution_count": 95,
   "metadata": {},
   "outputs": [],
   "source": [
    "leading_E = get_leading(jaggedE)\n",
    "leading_pT = get_leading(jaggedpT)\n",
    "leading_phi = get_leading(jaggedphi)\n",
    "leading_eta = get_leading(jaggedeta)"
   ]
  },
  {
   "cell_type": "code",
   "execution_count": 96,
   "metadata": {},
   "outputs": [],
   "source": [
    "leading_ph_E = get_leading(jaggedE)\n",
    "leading_ph_pT = get_leading(jaggedpT)\n",
    "leading_ph_phi = get_leading(jaggedphi)\n",
    "leading_ph_eta = get_leading(jaggedeta)"
   ]
  },
  {
   "cell_type": "code",
   "execution_count": 97,
   "metadata": {},
   "outputs": [
    {
     "name": "stdout",
     "output_type": "stream",
     "text": [
      "(997,) (997,) (997,) (997,)\n"
     ]
    }
   ],
   "source": [
    "print(leading_E.shape, leading_eta.shape, leading_phi.shape, leading_pT.shape)"
   ]
  },
  {
   "cell_type": "raw",
   "metadata": {},
   "source": [
    "df = pd.DataFrame(data = {'jet pT': leading_pT, 'jet eta': leading_eta, 'jet phi': leading_phi, 'jet E': leading_E})"
   ]
  },
  {
   "cell_type": "code",
   "execution_count": 100,
   "metadata": {},
   "outputs": [],
   "source": [
    "df = pd.DataFrame(data = {'jet pT': leading_pT, 'jet eta': leading_eta, 'jet phi': leading_phi, 'jet E': leading_E,\n",
    "                          'photon pT': leading_ph_pT, 'photon eta': leading_ph_eta, 'photon phi': leading_ph_phi, 'photon E': leading_ph_E})"
   ]
  },
  {
   "cell_type": "code",
   "execution_count": 101,
   "metadata": {},
   "outputs": [],
   "source": [
    "train, test = train_test_split(df, test_size=0.2, random_state=41)"
   ]
  },
  {
   "cell_type": "code",
   "execution_count": 102,
   "metadata": {},
   "outputs": [
    {
     "name": "stdout",
     "output_type": "stream",
     "text": [
      "(797, 8) (200, 8)\n"
     ]
    }
   ],
   "source": [
    "print(train.shape, test.shape)"
   ]
  },
  {
   "cell_type": "code",
   "execution_count": 105,
   "metadata": {},
   "outputs": [],
   "source": [
    "# Save train and test sets\n",
    "#train.to_pickle('processed_data/small_train.pkl')\n",
    "#test.to_pickle('processed_data/small_test.pkl')\n",
    "# train = pd.read_pickle('processed_data/train.pkl')\n",
    "# test = pd.read_pickle('processed_data/test.pkl')"
   ]
  },
  {
   "cell_type": "code",
   "execution_count": 104,
   "metadata": {},
   "outputs": [
    {
     "data": {
      "text/html": [
       "<div>\n",
       "<style scoped>\n",
       "    .dataframe tbody tr th:only-of-type {\n",
       "        vertical-align: middle;\n",
       "    }\n",
       "\n",
       "    .dataframe tbody tr th {\n",
       "        vertical-align: top;\n",
       "    }\n",
       "\n",
       "    .dataframe thead th {\n",
       "        text-align: right;\n",
       "    }\n",
       "</style>\n",
       "<table border=\"1\" class=\"dataframe\">\n",
       "  <thead>\n",
       "    <tr style=\"text-align: right;\">\n",
       "      <th></th>\n",
       "      <th>jet pT</th>\n",
       "      <th>jet eta</th>\n",
       "      <th>jet phi</th>\n",
       "      <th>jet E</th>\n",
       "      <th>photon pT</th>\n",
       "      <th>photon eta</th>\n",
       "      <th>photon phi</th>\n",
       "      <th>photon E</th>\n",
       "    </tr>\n",
       "  </thead>\n",
       "  <tbody>\n",
       "    <tr>\n",
       "      <td>0</td>\n",
       "      <td>72432.320312</td>\n",
       "      <td>0.425758</td>\n",
       "      <td>1.136822</td>\n",
       "      <td>79456.000000</td>\n",
       "      <td>72432.320312</td>\n",
       "      <td>0.425758</td>\n",
       "      <td>1.136822</td>\n",
       "      <td>79456.000000</td>\n",
       "    </tr>\n",
       "    <tr>\n",
       "      <td>1</td>\n",
       "      <td>129755.570312</td>\n",
       "      <td>0.717890</td>\n",
       "      <td>-1.579304</td>\n",
       "      <td>165034.421875</td>\n",
       "      <td>129755.570312</td>\n",
       "      <td>0.717890</td>\n",
       "      <td>-1.579304</td>\n",
       "      <td>165034.421875</td>\n",
       "    </tr>\n",
       "    <tr>\n",
       "      <td>2</td>\n",
       "      <td>95613.000000</td>\n",
       "      <td>-0.078410</td>\n",
       "      <td>-1.341217</td>\n",
       "      <td>96232.968750</td>\n",
       "      <td>95613.000000</td>\n",
       "      <td>-0.078410</td>\n",
       "      <td>-1.341217</td>\n",
       "      <td>96232.968750</td>\n",
       "    </tr>\n",
       "    <tr>\n",
       "      <td>3</td>\n",
       "      <td>108035.718750</td>\n",
       "      <td>-2.594386</td>\n",
       "      <td>0.473218</td>\n",
       "      <td>727261.937500</td>\n",
       "      <td>108035.718750</td>\n",
       "      <td>-2.594386</td>\n",
       "      <td>0.473218</td>\n",
       "      <td>727261.937500</td>\n",
       "    </tr>\n",
       "    <tr>\n",
       "      <td>4</td>\n",
       "      <td>148432.250000</td>\n",
       "      <td>1.787910</td>\n",
       "      <td>-1.924926</td>\n",
       "      <td>456764.906250</td>\n",
       "      <td>148432.250000</td>\n",
       "      <td>1.787910</td>\n",
       "      <td>-1.924926</td>\n",
       "      <td>456764.906250</td>\n",
       "    </tr>\n",
       "  </tbody>\n",
       "</table>\n",
       "</div>"
      ],
      "text/plain": [
       "          jet pT   jet eta   jet phi          jet E      photon pT  \\\n",
       "0   72432.320312  0.425758  1.136822   79456.000000   72432.320312   \n",
       "1  129755.570312  0.717890 -1.579304  165034.421875  129755.570312   \n",
       "2   95613.000000 -0.078410 -1.341217   96232.968750   95613.000000   \n",
       "3  108035.718750 -2.594386  0.473218  727261.937500  108035.718750   \n",
       "4  148432.250000  1.787910 -1.924926  456764.906250  148432.250000   \n",
       "\n",
       "   photon eta  photon phi       photon E  \n",
       "0    0.425758    1.136822   79456.000000  \n",
       "1    0.717890   -1.579304  165034.421875  \n",
       "2   -0.078410   -1.341217   96232.968750  \n",
       "3   -2.594386    0.473218  727261.937500  \n",
       "4    1.787910   -1.924926  456764.906250  "
      ]
     },
     "execution_count": 104,
     "metadata": {},
     "output_type": "execute_result"
    }
   ],
   "source": [
    "df.head()"
   ]
  },
  {
   "cell_type": "code",
   "execution_count": null,
   "metadata": {},
   "outputs": [],
   "source": []
  }
 ],
 "metadata": {
  "kernelspec": {
   "display_name": "Python3.7 (fastairoot)",
   "language": "python",
   "name": "fastairoot"
  },
  "language_info": {
   "codemirror_mode": {
    "name": "ipython",
    "version": 3
   },
   "file_extension": ".py",
   "mimetype": "text/x-python",
   "name": "python",
   "nbconvert_exporter": "python",
   "pygments_lexer": "ipython3",
   "version": "3.7.3"
  }
 },
 "nbformat": 4,
 "nbformat_minor": 2
}
