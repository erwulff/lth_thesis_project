{
 "cells": [
  {
   "cell_type": "code",
   "execution_count": 1,
   "metadata": {},
   "outputs": [],
   "source": [
    "%matplotlib inline\n",
    "\n",
    "import matplotlib.pyplot as plt\n",
    "import numpy as np\n",
    "import pandas as pd\n",
    "import uproot"
   ]
  },
  {
   "cell_type": "code",
   "execution_count": 2,
   "metadata": {},
   "outputs": [],
   "source": [
    "from sklearn.model_selection import train_test_split\n",
    "\n",
    "import torch\n",
    "import torch.nn as nn\n",
    "import torch.optim as optim\n",
    "from torch.utils.data import TensorDataset\n",
    "from torch.utils.data import DataLoader"
   ]
  },
  {
   "cell_type": "code",
   "execution_count": 13,
   "metadata": {},
   "outputs": [],
   "source": [
    "path_to_data = '../data/'\n",
    "\n",
    "folder15 = 'breynold/user.breynold.data15_13TeV.00284484.physics_Main.DAOD_NTUP_JTRIG_JETM1.r9264_p3083_p3601_j042_tree.root/'\n",
    "file15 = 'user.breynold.18753218._000001.tree.root'\n",
    "folder16 = 'breynold/user.breynold.data16_13TeV.00307656.physics_Main.DAOD_NTUP_JTRIG_JETM1.r9264_p3083_p3601_j042_tree.root/'\n",
    "file16 = 'user.breynold.18797259._000001.tree.root'\n",
    "\n",
    "folder = 'doglioni/data18_13TeV.00355331.calibration_DataScouting_05_Jets.merge.AOD.r10657_p3592.root'\n",
    "\n",
    "# Load a ROOT file\n",
    "#filePath = path_to_data + folder16 + file16\n",
    "filePath = path_to_data + folder\n",
    "ttree = uproot.open(filePath)['outTree']['nominal']"
   ]
  },
  {
   "cell_type": "code",
   "execution_count": 15,
   "metadata": {},
   "outputs": [
    {
     "data": {
      "text/plain": [
       "[b'runNumber',\n",
       " b'eventNumber',\n",
       " b'lumiBlock',\n",
       " b'coreFlags',\n",
       " b'bcid',\n",
       " b'timeStamp',\n",
       " b'timeStampNSOffset',\n",
       " b'TileError',\n",
       " b'SCTError',\n",
       " b'LArError',\n",
       " b'TileFlags',\n",
       " b'SCTFlags',\n",
       " b'LArFlags',\n",
       " b'passL1',\n",
       " b'passHLT',\n",
       " b'passedTriggers',\n",
       " b'disabledTriggers',\n",
       " b'triggerPrescales',\n",
       " b'isPassBits',\n",
       " b'isPassBitsNames',\n",
       " b'nL1Jet',\n",
       " b'L1Jet_et8x8',\n",
       " b'L1Jet_eta',\n",
       " b'L1Jet_phi',\n",
       " b'nDSTrigJet',\n",
       " b'DSTrigJet_E',\n",
       " b'DSTrigJet_pt',\n",
       " b'DSTrigJet_phi',\n",
       " b'DSTrigJet_eta',\n",
       " b'DSTrigJet_rapidity',\n",
       " b'DSTrigJet_HECFrac',\n",
       " b'DSTrigJet_CentroidR',\n",
       " b'DSTrigJet_LowEtConstituentsFrac',\n",
       " b'DSTrigJet_EMFrac',\n",
       " b'DSTrigJet_FracSamplingMax',\n",
       " b'DSTrigJet_FracSamplingMaxIndex',\n",
       " b'DSTrigJet_GhostMuonSegmentCount',\n",
       " b'DSTrigJet_Width',\n",
       " b'DSTrigJet_emScalePt',\n",
       " b'DSTrigJet_constScalePt',\n",
       " b'DSTrigJet_pileupScalePt',\n",
       " b'DSTrigJet_originConstitScalePt',\n",
       " b'DSTrigJet_etaJESScalePt',\n",
       " b'DSTrigJet_gscScalePt',\n",
       " b'DSTrigJet_jmsScalePt',\n",
       " b'DSTrigJet_insituScalePt',\n",
       " b'DSTrigJet_emScaleM',\n",
       " b'DSTrigJet_constScaleM',\n",
       " b'DSTrigJet_pileupScaleM',\n",
       " b'DSTrigJet_originConstitScaleM',\n",
       " b'DSTrigJet_etaJESScaleM',\n",
       " b'DSTrigJet_gscScaleM',\n",
       " b'DSTrigJet_jmsScaleM',\n",
       " b'DSTrigJet_insituScaleM',\n",
       " b'DSTrigJet_constScaleEta',\n",
       " b'DSTrigJet_detectorEta',\n",
       " b'DSTrigJet_EnergyPerSampling',\n",
       " b'DSTrigJet_GhostArea',\n",
       " b'DSTrigJet_ActiveArea',\n",
       " b'DSTrigJet_VoronoiArea',\n",
       " b'DSTrigJet_ActiveArea4vec_pt',\n",
       " b'DSTrigJet_ActiveArea4vec_eta',\n",
       " b'DSTrigJet_ActiveArea4vec_phi',\n",
       " b'DSTrigJet_ActiveArea4vec_m']"
      ]
     },
     "execution_count": 15,
     "metadata": {},
     "output_type": "execute_result"
    }
   ],
   "source": [
    "ttree.keys()"
   ]
  },
  {
   "cell_type": "code",
   "execution_count": 16,
   "metadata": {},
   "outputs": [],
   "source": [
    "#branchnames = ['nAntiKt4EMTopoJets_Calib2018',\n",
    "#               'AntiKt4EMTopoJets_Calib2018_E',\n",
    "#               'AntiKt4EMTopoJets_Calib2018_pt',\n",
    "#               'AntiKt4EMTopoJets_Calib2018_phi',\n",
    "#               'AntiKt4EMTopoJets_Calib2018_eta']\n",
    "\n",
    "branchnames = ['nDSTrigJet',\n",
    "               'DSTrigJet_E',\n",
    "               'DSTrigJet_pt',\n",
    "               'DSTrigJet_phi',\n",
    "               'DSTrigJet_eta']\n",
    "\n",
    "jaggedE = ttree.array(branchnames[1])\n",
    "jaggedpT = ttree.array(branchnames[2])\n",
    "jaggedphi = ttree.array(branchnames[3])\n",
    "jaggedeta = ttree.array(branchnames[4])"
   ]
  },
  {
   "cell_type": "code",
   "execution_count": 17,
   "metadata": {},
   "outputs": [],
   "source": [
    "def get_leading(jaggedX):\n",
    "    return jaggedX[jaggedX.counts > 1, 0]"
   ]
  },
  {
   "cell_type": "code",
   "execution_count": 18,
   "metadata": {},
   "outputs": [],
   "source": [
    "leading_E = get_leading(jaggedE)\n",
    "leading_pT = get_leading(jaggedpT)\n",
    "leading_phi = get_leading(jaggedphi)\n",
    "leading_eta = get_leading(jaggedeta)"
   ]
  },
  {
   "cell_type": "code",
   "execution_count": 19,
   "metadata": {},
   "outputs": [
    {
     "name": "stdout",
     "output_type": "stream",
     "text": [
      "(100,) (100,) (100,) (100,)\n"
     ]
    }
   ],
   "source": [
    "print(leading_E.shape, leading_eta.shape, leading_phi.shape, leading_pT.shape)"
   ]
  },
  {
   "cell_type": "code",
   "execution_count": 20,
   "metadata": {},
   "outputs": [],
   "source": [
    "df = pd.DataFrame(data = {'pT': leading_pT, 'eta': leading_eta, 'phi': leading_phi, 'E': leading_E})"
   ]
  },
  {
   "cell_type": "code",
   "execution_count": 21,
   "metadata": {},
   "outputs": [],
   "source": [
    "train, test = train_test_split(df, test_size=0.2, random_state=42)"
   ]
  },
  {
   "cell_type": "code",
   "execution_count": 22,
   "metadata": {},
   "outputs": [
    {
     "name": "stdout",
     "output_type": "stream",
     "text": [
      "(80, 4) (20, 4)\n"
     ]
    }
   ],
   "source": [
    "print(train.shape, test.shape)"
   ]
  },
  {
   "cell_type": "code",
   "execution_count": 23,
   "metadata": {},
   "outputs": [],
   "source": [
    "# Save train and test sets\n",
    "#train.to_pickle('processed_data/tiny_train.pkl')\n",
    "#test.to_pickle('processed_data/tiny_test.pkl')\n",
    "# train = pd.read_pickle('processed_data/train.pkl')\n",
    "# test = pd.read_pickle('processed_data/test.pkl')"
   ]
  },
  {
   "cell_type": "code",
   "execution_count": null,
   "metadata": {},
   "outputs": [],
   "source": []
  }
 ],
 "metadata": {
  "kernelspec": {
   "display_name": "Python3.7 (fastairoot)",
   "language": "python",
   "name": "fastairoot"
  },
  "language_info": {
   "codemirror_mode": {
    "name": "ipython",
    "version": 3
   },
   "file_extension": ".py",
   "mimetype": "text/x-python",
   "name": "python",
   "nbconvert_exporter": "python",
   "pygments_lexer": "ipython3",
   "version": "3.7.3"
  }
 },
 "nbformat": 4,
 "nbformat_minor": 2
}
